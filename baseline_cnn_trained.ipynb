{
  "nbformat": 4,
  "nbformat_minor": 0,
  "metadata": {
    "kernelspec": {
      "name": "julia-1.3",
      "display_name": "Julia 1.3"
    },
    "accelerator": "GPU",
    "colab": {
      "name": "Copy of JuliaOnColab.ipynb",
      "provenance": [],
      "collapsed_sections": [],
      "toc_visible": true
    }
  },
  "cells": [
    {
      "cell_type": "markdown",
      "metadata": {
        "id": "Q7S9cpFJqfXy",
        "colab_type": "text"
      },
      "source": [
        "## Julia on Colaboratory ##\n",
        "\n",
        "[Colaboratory](https://colab.research.google.com) does not provide native support for the [Julia programming language](https://julialang.org). However, since Colaboratory gives you root access to the machine that runs your notebook (the *“runtime”* in Colaboratory terminology), we can install Julia support by uploading a specially crafted Julia notebook  – *this* notebook. We then install Julia and [IJulia](https://github.com/JuliaLang/IJulia.jl) ([Jupyter](https://jupyter.org)/Colaboratory notebook support) and reload the notebook so that Colaboratory detects and initiates what we installed.\n",
        "\n",
        "In brief:\n",
        "\n",
        "1. **Run the cell below**\n",
        "2. **Reload the page**\n",
        "3. **Edit the notebook name and start hacking Julia code below**\n",
        "\n",
        "**If your runtime resets**, either manually or if left idle for some time, **repeat steps 1 and 2**.\n",
        "\n",
        "### Acknowledgements ###\n",
        "\n",
        "This hack by Pontus Stenetorp is an adaptation of [James Bradbury’s original Colaboratory Julia hack](https://discourse.julialang.org/t/julia-on-google-colab-free-gpu-accelerated-shareable-notebooks/15319/27), that broke some time in September 2019 as Colaboratory increased their level of notebook runtime isolation. There also appears to be CUDA compilation support installed by default for each notebook runtime type in October 2019, which shaves off a good 15 minutes or so from the original hack’s installation time."
      ]
    },
    {
      "cell_type": "code",
      "metadata": {
        "id": "BrHjOFFsxf7W",
        "colab_type": "code",
        "outputId": "e90c4b58-d135-4365-d464-fa282dfadee1",
        "colab": {
          "base_uri": "https://localhost:8080/",
          "height": 1000
        }
      },
      "source": [
        "# Installation cell\n",
        "%%shell\n",
        "if ! command -v julia 2>&1 > /dev/null\n",
        "then\n",
        "    wget 'https://julialang-s3.julialang.org/bin/linux/x64/1.3/julia-1.3.1-linux-x86_64.tar.gz' \\\n",
        "        -O /tmp/julia.tar.gz\n",
        "    tar -x -f /tmp/julia.tar.gz -C /usr/local --strip-components 1\n",
        "    rm /tmp/julia.tar.gz\n",
        "fi\n",
        "julia -e 'using Pkg; pkg\"add Plots; add PyPlot; add IJulia; add Knet;\"'\n",
        "julia -e 'using Pkg; pkg\"build Knet;\"'"
      ],
      "execution_count": 0,
      "outputs": [
        {
          "output_type": "stream",
          "text": [
            "--2020-03-04 18:45:16--  https://julialang-s3.julialang.org/bin/linux/x64/1.3/julia-1.3.1-linux-x86_64.tar.gz\n",
            "Resolving julialang-s3.julialang.org (julialang-s3.julialang.org)... 151.101.2.49, 151.101.66.49, 151.101.130.49, ...\n",
            "Connecting to julialang-s3.julialang.org (julialang-s3.julialang.org)|151.101.2.49|:443... connected.\n",
            "HTTP request sent, awaiting response... 302 gce internal redirect trigger\n",
            "Location: https://storage.googleapis.com/julialang2/bin/linux/x64/1.3/julia-1.3.1-linux-x86_64.tar.gz [following]\n",
            "--2020-03-04 18:45:16--  https://storage.googleapis.com/julialang2/bin/linux/x64/1.3/julia-1.3.1-linux-x86_64.tar.gz\n",
            "Resolving storage.googleapis.com (storage.googleapis.com)... 172.217.203.128, 2607:f8b0:400c:c12::80\n",
            "Connecting to storage.googleapis.com (storage.googleapis.com)|172.217.203.128|:443... connected.\n",
            "HTTP request sent, awaiting response... 200 OK\n",
            "Length: 95929584 (91M) [application/x-gzip]\n",
            "Saving to: ‘/tmp/julia.tar.gz’\n",
            "\n",
            "/tmp/julia.tar.gz   100%[===================>]  91.49M   137MB/s    in 0.7s    \n",
            "\n",
            "2020-03-04 18:45:16 (137 MB/s) - ‘/tmp/julia.tar.gz’ saved [95929584/95929584]\n",
            "\n",
            "   Cloning default registries into `~/.julia`\n",
            "   Cloning registry from \"https://github.com/JuliaRegistries/General.git\"\n",
            "\u001b[2K\u001b[?25h     Added registry `General` to `~/.julia/registries/General`\n",
            " Resolving package versions...\n",
            " Installed NaNMath ──────────── v0.3.3\n",
            " Installed Bzip2_jll ────────── v1.0.6+1\n",
            " Installed libvorbis_jll ────── v1.3.6+2\n",
            " Installed PlotUtils ────────── v0.6.3\n",
            " Installed LibVPX_jll ───────── v1.8.1+1\n",
            " Installed x265_jll ─────────── v3.0.0+0\n",
            " Installed Plots ────────────── v0.29.4\n",
            " Installed StatsBase ────────── v0.32.2\n",
            " Installed Showoff ──────────── v0.3.1\n",
            " Installed DataAPI ──────────── v1.1.0\n",
            " Installed PlotThemes ───────── v1.0.1\n",
            " Installed Measures ─────────── v0.3.1\n",
            " Installed GeometryTypes ────── v0.7.10\n",
            " Installed FFMPEG ───────────── v0.3.0\n",
            " Installed FriBidi_jll ──────── v1.0.5+2\n",
            " Installed OpenSSL_jll ──────── v1.1.1+1\n",
            " Installed RecipesBase ──────── v0.8.0\n",
            " Installed Requires ─────────── v1.0.1\n",
            " Installed StaticArrays ─────── v0.12.1\n",
            " Installed DataStructures ───── v0.17.10\n",
            " Installed ColorTypes ───────── v0.9.1\n",
            " Installed FreeType2_jll ────── v2.10.1+1\n",
            " Installed Zlib_jll ─────────── v1.2.11+8\n",
            " Installed FixedPointNumbers ── v0.7.1\n",
            " Installed Parsers ──────────── v0.3.12\n",
            " Installed Colors ───────────── v0.11.2\n",
            " Installed x264_jll ─────────── v2019.5.25+1\n",
            " Installed SortingAlgorithms ── v0.3.1\n",
            " Installed JSON ─────────────── v0.21.0\n",
            " Installed Reexport ─────────── v0.2.0\n",
            " Installed OrderedCollections ─ v1.1.0\n",
            " Installed Missings ─────────── v0.4.3\n",
            " Installed libfdk_aac_jll ───── v0.1.6+1\n",
            " Installed FFMPEG_jll ───────── v4.1.0+2\n",
            " Installed libass_jll ───────── v0.14.0+0\n",
            " Installed Ogg_jll ──────────── v1.3.3+0\n",
            " Installed Contour ──────────── v0.5.1\n",
            " Installed LAME_jll ─────────── v3.100.0+0\n",
            " Installed Opus_jll ─────────── v1.3.1+0\n",
            " Installed GR ───────────────── v0.47.0\n",
            "  Updating `~/.julia/environments/v1.3/Project.toml`\n",
            "  [91a5bcdd] + Plots v0.29.4\n",
            "  Updating `~/.julia/environments/v1.3/Manifest.toml`\n",
            "  [6e34b625] + Bzip2_jll v1.0.6+1\n",
            "  [3da002f7] + ColorTypes v0.9.1\n",
            "  [5ae59095] + Colors v0.11.2\n",
            "  [d38c429a] + Contour v0.5.1\n",
            "  [9a962f9c] + DataAPI v1.1.0\n",
            "  [864edb3b] + DataStructures v0.17.10\n",
            "  [c87230d0] + FFMPEG v0.3.0\n",
            "  [b22a6f82] + FFMPEG_jll v4.1.0+2\n",
            "  [53c48c17] + FixedPointNumbers v0.7.1\n",
            "  [d7e528f0] + FreeType2_jll v2.10.1+1\n",
            "  [559328eb] + FriBidi_jll v1.0.5+2\n",
            "  [28b8d3ca] + GR v0.47.0\n",
            "  [4d00f742] + GeometryTypes v0.7.10\n",
            "  [682c06a0] + JSON v0.21.0\n",
            "  [c1c5ebd0] + LAME_jll v3.100.0+0\n",
            "  [dd192d2f] + LibVPX_jll v1.8.1+1\n",
            "  [442fdcdd] + Measures v0.3.1\n",
            "  [e1d29d7a] + Missings v0.4.3\n",
            "  [77ba4419] + NaNMath v0.3.3\n",
            "  [e7412a2a] + Ogg_jll v1.3.3+0\n",
            "  [458c3c95] + OpenSSL_jll v1.1.1+1\n",
            "  [91d4177d] + Opus_jll v1.3.1+0\n",
            "  [bac558e1] + OrderedCollections v1.1.0\n",
            "  [69de0a69] + Parsers v0.3.12\n",
            "  [ccf2f8ad] + PlotThemes v1.0.1\n",
            "  [995b91a9] + PlotUtils v0.6.3\n",
            "  [91a5bcdd] + Plots v0.29.4\n",
            "  [3cdcf5f2] + RecipesBase v0.8.0\n",
            "  [189a3867] + Reexport v0.2.0\n",
            "  [ae029012] + Requires v1.0.1\n",
            "  [992d4aef] + Showoff v0.3.1\n",
            "  [a2af1166] + SortingAlgorithms v0.3.1\n",
            "  [90137ffa] + StaticArrays v0.12.1\n",
            "  [2913bbd2] + StatsBase v0.32.2\n",
            "  [83775a58] + Zlib_jll v1.2.11+8\n",
            "  [0ac62f75] + libass_jll v0.14.0+0\n",
            "  [f638f0a6] + libfdk_aac_jll v0.1.6+1\n",
            "  [f27f6e37] + libvorbis_jll v1.3.6+2\n",
            "  [1270edf5] + x264_jll v2019.5.25+1\n",
            "  [dfaa095f] + x265_jll v3.0.0+0\n",
            "  [2a0f44e3] + Base64 \n",
            "  [ade2ca70] + Dates \n",
            "  [8bb1440f] + DelimitedFiles \n",
            "  [8ba89e20] + Distributed \n",
            "  [b77e0a4c] + InteractiveUtils \n",
            "  [76f85450] + LibGit2 \n",
            "  [8f399da3] + Libdl \n",
            "  [37e2e46d] + LinearAlgebra \n",
            "  [56ddb016] + Logging \n",
            "  [d6f4376e] + Markdown \n",
            "  [a63ad114] + Mmap \n",
            "  [44cfe95a] + Pkg \n",
            "  [de0858da] + Printf \n",
            "  [3fa0cd96] + REPL \n",
            "  [9a3f8284] + Random \n",
            "  [ea8e919c] + SHA \n",
            "  [9e88b42a] + Serialization \n",
            "  [6462fe0b] + Sockets \n",
            "  [2f01184e] + SparseArrays \n",
            "  [10745b16] + Statistics \n",
            "  [8dfed614] + Test \n",
            "  [cf7118a7] + UUIDs \n",
            "  [4ec0a83e] + Unicode \n",
            "  Building GR ───→ `~/.julia/packages/GR/tPkHV/deps/build.log`\n",
            "  Building Plots → `~/.julia/packages/Plots/B2J6j/deps/build.log`\n",
            " Resolving package versions...\n",
            " Installed VersionParsing ─ v1.2.0\n",
            " Installed MacroTools ───── v0.5.4\n",
            " Installed Conda ────────── v1.4.1\n",
            " Installed PyCall ───────── v1.91.4\n",
            " Installed LaTeXStrings ─── v1.1.0\n",
            " Installed PyPlot ───────── v2.8.2\n",
            "  Updating `~/.julia/environments/v1.3/Project.toml`\n",
            "  [d330b81b] + PyPlot v2.8.2\n",
            "  Updating `~/.julia/environments/v1.3/Manifest.toml`\n",
            "  [8f4d0f93] + Conda v1.4.1\n",
            "  [b964fa9f] + LaTeXStrings v1.1.0\n",
            "  [1914dd2f] + MacroTools v0.5.4\n",
            "  [438e738f] + PyCall v1.91.4\n",
            "  [d330b81b] + PyPlot v2.8.2\n",
            "  [81def892] + VersionParsing v1.2.0\n",
            "  Building Conda ─→ `~/.julia/packages/Conda/3rPhK/deps/build.log`\n",
            "  Building PyCall → `~/.julia/packages/PyCall/zqDXB/deps/build.log`\n",
            " Resolving package versions...\n",
            " Installed BinaryProvider ── v0.5.8\n",
            " Installed MbedTLS ───────── v0.7.0\n",
            " Installed ZeroMQ_jll ────── v4.3.2+1\n",
            " Installed IJulia ────────── v1.21.1\n",
            " Installed SoftGlobalScope ─ v1.0.10\n",
            " Installed ZMQ ───────────── v1.2.0\n",
            "  Updating `~/.julia/environments/v1.3/Project.toml`\n",
            "  [7073ff75] + IJulia v1.21.1\n",
            "  Updating `~/.julia/environments/v1.3/Manifest.toml`\n",
            "  [b99e7846] + BinaryProvider v0.5.8\n",
            "  [7073ff75] + IJulia v1.21.1\n",
            "  [739be429] + MbedTLS v0.7.0\n",
            "  [b85f4697] + SoftGlobalScope v1.0.10\n",
            "  [c2297ded] + ZMQ v1.2.0\n",
            "  [8f1865be] + ZeroMQ_jll v4.3.2+1\n",
            "  [7b1f6079] + FileWatching \n",
            "  Building MbedTLS → `~/.julia/packages/MbedTLS/a1JFn/deps/build.log`\n",
            "  Building IJulia ─→ `~/.julia/packages/IJulia/yLI42/deps/build.log`\n",
            " Resolving package versions...\n",
            " Installed CompilerSupportLibraries_jll ─ v0.2.0+1\n",
            " Installed GPUArrays ──────────────────── v2.0.1\n",
            " Installed CodecZlib ──────────────────── v0.6.0\n",
            " Installed TimerOutputs ───────────────── v0.5.3\n",
            " Installed AutoGrad ───────────────────── v1.2.1\n",
            " Installed NNlib ──────────────────────── v0.6.6\n",
            " Installed CuArrays ───────────────────── v1.7.2\n",
            " Installed SpecialFunctions ───────────── v0.10.0\n",
            " Installed AbstractFFTs ───────────────── v0.5.0\n",
            " Installed JLD2 ───────────────────────── v0.1.12\n",
            " Installed CEnum ──────────────────────── v0.2.0\n",
            " Installed TranscodingStreams ─────────── v0.9.5\n",
            " Installed CUDAapi ────────────────────── v3.1.0\n",
            " Installed LLVM ───────────────────────── v1.3.3\n",
            " Installed Adapt ──────────────────────── v1.0.1\n",
            " Installed OpenSpecFun_jll ────────────── v0.5.3+2\n",
            " Installed FileIO ─────────────────────── v1.2.2\n",
            " Installed CUDAdrv ────────────────────── v6.0.0\n",
            " Installed CUDAnative ─────────────────── v2.10.2\n",
            " Installed Knet ───────────────────────── v1.3.4\n",
            "  Updating `~/.julia/environments/v1.3/Project.toml`\n",
            "  [1902f260] + Knet v1.3.4\n",
            "  Updating `~/.julia/environments/v1.3/Manifest.toml`\n",
            "  [621f4979] + AbstractFFTs v0.5.0\n",
            "  [79e6a3ab] + Adapt v1.0.1\n",
            "  [6710c13c] + AutoGrad v1.2.1\n",
            "  [fa961155] + CEnum v0.2.0\n",
            "  [3895d2a7] + CUDAapi v3.1.0\n",
            "  [c5f51814] + CUDAdrv v6.0.0\n",
            "  [be33ccc6] + CUDAnative v2.10.2\n",
            "  [944b1d66] + CodecZlib v0.6.0\n",
            "  [e66e0078] + CompilerSupportLibraries_jll v0.2.0+1\n",
            "  [3a865a2d] + CuArrays v1.7.2\n",
            "  [5789e2e9] + FileIO v1.2.2\n",
            "  [0c68f7d7] + GPUArrays v2.0.1\n",
            "  [033835bb] + JLD2 v0.1.12\n",
            "  [1902f260] + Knet v1.3.4\n",
            "  [929cbde3] + LLVM v1.3.3\n",
            "  [872c559c] + NNlib v0.6.6\n",
            "  [efe28fd5] + OpenSpecFun_jll v0.5.3+2\n",
            "  [276daf66] + SpecialFunctions v0.10.0\n",
            "  [a759f4b9] + TimerOutputs v0.5.3\n",
            "  [3bb67fe8] + TranscodingStreams v0.9.5\n",
            "  Building NNlib ────→ `~/.julia/packages/NNlib/FAI3o/deps/build.log`\n",
            "  Building CodecZlib → `~/.julia/packages/CodecZlib/5t9zO/deps/build.log`\n",
            "  Building Knet ─────→ `~/.julia/packages/Knet/vxHRi/deps/build.log`\n",
            "  Building NNlib ────→ `~/.julia/packages/NNlib/FAI3o/deps/build.log`\n",
            "  Building CodecZlib → `~/.julia/packages/CodecZlib/5t9zO/deps/build.log`\n"
          ],
          "name": "stdout"
        }
      ]
    },
    {
      "cell_type": "code",
      "metadata": {
        "id": "1VdFDb9szt_o",
        "colab_type": "code",
        "outputId": "f80b94a0-d56e-418c-e8de-72289045515c",
        "colab": {
          "base_uri": "https://localhost:8080/",
          "height": 102
        }
      },
      "source": [
        "using Knet\n",
        "# Test if Knet is using gpu\n",
        "Knet.gpu()"
      ],
      "execution_count": 0,
      "outputs": [
        {
          "output_type": "stream",
          "text": [
            "┌ Info: Precompiling Knet [1902f260-5fb4-5aff-8c31-6271790ab950]\n",
            "└ @ Base loading.jl:1273\n",
            "┌ Info: CUDAdrv.jl failed to initialize, GPU functionality unavailable (set JULIA_CUDA_SILENT or JULIA_CUDA_VERBOSE to silence or expand this message)\n",
            "└ @ CUDAdrv /root/.julia/packages/CUDAdrv/b1mvw/src/CUDAdrv.jl:67\n"
          ],
          "name": "stderr"
        },
        {
          "output_type": "execute_result",
          "data": {
            "text/plain": [
              "-1"
            ]
          },
          "metadata": {
            "tags": []
          },
          "execution_count": 1
        }
      ]
    },
    {
      "cell_type": "code",
      "metadata": {
        "id": "keEn3xOtNOD8",
        "colab_type": "code",
        "colab": {}
      },
      "source": [
        "# Setup display width, load packages, import symbols\n",
        "ENV[\"COLUMNS\"]=72\n",
        "using Pkg; for p in\n",
        " (\"Knet\",\"IterTools\",\"Plots\"); haskey(Pkg.installed(),p) || Pkg.add(p); end\n",
        "\n",
        "using Base.Iterators: flatten\n",
        "using IterTools: ncycle, takenth\n",
        "using Statistics: mean\n",
        "using Knet: Knet, conv4, pool, mat, KnetArray, nll, zeroone, progress, sgd, param, param0, dropout, relu, Data, gpu"
      ],
      "execution_count": 0,
      "outputs": []
    },
    {
      "cell_type": "code",
      "metadata": {
        "id": "PIaygD0yvyZE",
        "colab_type": "code",
        "colab": {}
      },
      "source": [
        "import Pkg\n",
        "Pkg.build(\"IJulia\")"
      ],
      "execution_count": 0,
      "outputs": []
    },
    {
      "cell_type": "code",
      "metadata": {
        "id": "oSXEylF7wlkz",
        "colab_type": "code",
        "colab": {}
      },
      "source": [
        "IJulia.set_max_stdio(1<<25)"
      ],
      "execution_count": 0,
      "outputs": []
    },
    {
      "cell_type": "code",
      "metadata": {
        "id": "RhF0_zyoNQZ1",
        "colab_type": "code",
        "colab": {}
      },
      "source": [
        "# Load data (see mnist.ipynb)\n",
        "include(Knet.dir(\"data\",\"mnist.jl\"))  # Load data\n",
        "dtrn,dtst = mnistdata();              # dtrn and dtst = [ (x1,y1), (x2,y2), ... ] where xi,yi are minibatches of 100"
      ],
      "execution_count": 0,
      "outputs": []
    },
    {
      "cell_type": "code",
      "metadata": {
        "id": "5xLmAL4ZNQdZ",
        "colab_type": "code",
        "colab": {}
      },
      "source": [
        "(x,y) = first(dtrn)\n",
        "println.((length(dtrn)));"
      ],
      "execution_count": 0,
      "outputs": []
    },
    {
      "cell_type": "code",
      "metadata": {
        "id": "owIRQMo2NQmr",
        "colab_type": "code",
        "colab": {}
      },
      "source": [
        "# For running experiments\n",
        "function trainresultsadam(file,model; o...)\n",
        "    if true\n",
        "        r = ((1,1,1,1)\n",
        "             for x in takenth(progress(adam(model,ncycle(dtrn,100))),length(dtrn)))\n",
        "        r = reshape(collect(Float32,flatten(r)),(4,:))\n",
        "        Knet.save(file,\"results\",r)\n",
        "        Knet.gc() # To save gpu memory\n",
        "    else\n",
        "        isfile(file) || download(\"http://people.csail.mit.edu/deniz/models/tutorial/$file\",file)\n",
        "        r = Knet.load(file,\"results\")\n",
        "    end\n",
        "    println(minimum(r,dims=2))\n",
        "    return r\n",
        "end"
      ],
      "execution_count": 0,
      "outputs": []
    },
    {
      "cell_type": "code",
      "metadata": {
        "id": "EbOFBdBiNZBV",
        "colab_type": "code",
        "colab": {}
      },
      "source": [
        "# Define a convolutional layer:\n",
        "struct Conv; w; b; f; p; end\n",
        "(c::Conv)(x) = c.f.((conv4(c.w, dropout(x,c.p),padding=2) .+ c.b))\n",
        "Conv(w1::Int,w2::Int,cx::Int,cy::Int,f=relu;pdrop=0) = Conv(param(w1,w2,cx,cy), param0(1,1,cy,1), f, pdrop)"
      ],
      "execution_count": 0,
      "outputs": []
    },
    {
      "cell_type": "code",
      "metadata": {
        "id": "P3yD4xw3NZFk",
        "colab_type": "code",
        "colab": {}
      },
      "source": [
        "# Redefine dense layer (See mlp.ipynb):\n",
        "struct Dense; w; b; f; p; end\n",
        "(d::Dense)(x) = d.f.(d.w * mat(dropout(x,d.p)) .+ d.b) # mat reshapes 4-D tensor to 2-D matrix so we can use matmul\n",
        "Dense(i::Int,o::Int,f=relu;pdrop=0) = Dense(param(o,i), param0(o), f, pdrop)"
      ],
      "execution_count": 0,
      "outputs": []
    },
    {
      "cell_type": "code",
      "metadata": {
        "id": "JpakE6fxyToX",
        "colab_type": "code",
        "colab": {}
      },
      "source": [
        "# Let's define a chain of layers\n",
        "struct Chain\n",
        "    layers\n",
        "    Chain(layers...) = new(layers)\n",
        "end\n",
        "(c::Chain)(x) = (for l in c.layers; x = l(x); end; x)\n",
        "(c::Chain)(x,y) = nll(c(x),y)\n",
        "(c::Chain)(d::Data) = mean(c(x,y) for (x,y) in d)"
      ],
      "execution_count": 0,
      "outputs": []
    },
    {
      "cell_type": "code",
      "metadata": {
        "id": "ee2BmAdtySJs",
        "colab_type": "code",
        "colab": {}
      },
      "source": [
        "baseline =   Chain(Conv(5,5,1,256,), \n",
        "                 Conv(5,5,256,256,), \n",
        "                 Conv(5,5,256,128,), \n",
        "                 Dense(100352,328,),\n",
        "                 Dense(328,192,),\n",
        "                 Dense(192,10,pdrop = 0.30))\n",
        "println(summary.(l.w for l in baseline.layers));\n"
      ],
      "execution_count": 0,
      "outputs": []
    },
    {
      "cell_type": "code",
      "metadata": {
        "id": "aSHEmwlasb1z",
        "colab_type": "code",
        "colab": {}
      },
      "source": [
        "cnn = trainresultsadam(\"baseline.jld2\", baseline);"
      ],
      "execution_count": 0,
      "outputs": []
    },
    {
      "cell_type": "code",
      "metadata": {
        "id": "C4eqrB0-QVtJ",
        "colab_type": "code",
        "colab": {}
      },
      "source": [
        "#file = \"baseline_trained.jld2\"\n",
        "#Knet.save(file,\"baseline_trnd\",baseline)"
      ],
      "execution_count": 0,
      "outputs": []
    },
    {
      "cell_type": "code",
      "metadata": {
        "id": "fDA7dSuNA-vF",
        "colab_type": "code",
        "colab": {}
      },
      "source": [
        "r = Knet.load(\"baseline_trained.jld2\",\"baseline_trnd\")\n"
      ],
      "execution_count": 0,
      "outputs": []
    },
    {
      "cell_type": "code",
      "metadata": {
        "id": "fkszS9z4_BLA",
        "colab_type": "code",
        "outputId": "84d6d067-c130-426c-d66d-3b01f9a8dac8",
        "colab": {
          "base_uri": "https://localhost:8080/",
          "height": 34
        }
      },
      "source": [
        "zeroone(r,dtst)"
      ],
      "execution_count": 0,
      "outputs": [
        {
          "output_type": "execute_result",
          "data": {
            "text/plain": [
              "0.01200000000000001"
            ]
          },
          "metadata": {
            "tags": []
          },
          "execution_count": 31
        }
      ]
    },
    {
      "cell_type": "code",
      "metadata": {
        "id": "-qbWLednAqb0",
        "colab_type": "code",
        "colab": {}
      },
      "source": [
        ""
      ],
      "execution_count": 0,
      "outputs": []
    }
  ]
}