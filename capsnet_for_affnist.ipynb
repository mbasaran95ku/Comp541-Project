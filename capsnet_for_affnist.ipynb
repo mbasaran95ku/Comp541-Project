{
 "cells": [
  {
   "cell_type": "markdown",
   "metadata": {
    "colab_type": "text",
    "id": "Q7S9cpFJqfXy"
   },
   "source": [
    "## Julia on Colaboratory ##\n",
    "\n",
    "In this code, our capsnet model is trained on enlarged Mnist data,\n",
    "than this trained weights are tested with affnist_test data for showing capsnet is robust to small affine transformations.\n",
    "\n",
    "** First two cells are used for google colab\n"
   ]
  },
  {
   "cell_type": "code",
   "execution_count": null,
   "metadata": {
    "colab": {
     "base_uri": "https://localhost:8080/",
     "height": 124
    },
    "colab_type": "code",
    "id": "gHZhdXBGg5wb",
    "outputId": "0395318f-4a65-42f0-bc10-02487121b7aa"
   },
   "outputs": [
    {
     "name": "stdout",
     "output_type": "stream",
     "text": [
      "Go to this URL in a browser: https://accounts.google.com/o/oauth2/auth?client_id=947318989803-6bn6qk8qdgf4n4g3pfee6491hc0brc4i.apps.googleusercontent.com&redirect_uri=urn%3aietf%3awg%3aoauth%3a2.0%3aoob&response_type=code&scope=email%20https%3a%2f%2fwww.googleapis.com%2fauth%2fdocs.test%20https%3a%2f%2fwww.googleapis.com%2fauth%2fdrive%20https%3a%2f%2fwww.googleapis.com%2fauth%2fdrive.photos.readonly%20https%3a%2f%2fwww.googleapis.com%2fauth%2fpeopleapi.readonly\n",
      "\n",
      "Enter your authorization code:\n",
      "··········\n",
      "Mounted at /content/gdrive\n"
     ]
    }
   ],
   "source": [
    "from google.colab import drive\n",
    "drive.mount('/content/gdrive')"
   ]
  },
  {
   "cell_type": "code",
   "execution_count": null,
   "metadata": {
    "colab": {
     "base_uri": "https://localhost:8080/",
     "height": 1000
    },
    "colab_type": "code",
    "id": "BrHjOFFsxf7W",
    "outputId": "bb294d09-4fe5-4d50-b913-1bb54d461bad"
   },
   "outputs": [
    {
     "name": "stdout",
     "output_type": "stream",
     "text": [
      "--2020-04-28 17:17:40--  https://julialang-s3.julialang.org/bin/linux/x64/1.3/julia-1.3.1-linux-x86_64.tar.gz\n",
      "Resolving julialang-s3.julialang.org (julialang-s3.julialang.org)... 151.101.2.49, 151.101.66.49, 151.101.130.49, ...\n",
      "Connecting to julialang-s3.julialang.org (julialang-s3.julialang.org)|151.101.2.49|:443... connected.\n",
      "HTTP request sent, awaiting response... 302 gce internal redirect trigger\n",
      "Location: https://storage.googleapis.com/julialang2/bin/linux/x64/1.3/julia-1.3.1-linux-x86_64.tar.gz [following]\n",
      "--2020-04-28 17:17:40--  https://storage.googleapis.com/julialang2/bin/linux/x64/1.3/julia-1.3.1-linux-x86_64.tar.gz\n",
      "Resolving storage.googleapis.com (storage.googleapis.com)... 172.217.204.128, 2607:f8b0:400c:c0d::80\n",
      "Connecting to storage.googleapis.com (storage.googleapis.com)|172.217.204.128|:443... connected.\n",
      "HTTP request sent, awaiting response... 200 OK\n",
      "Length: 95929584 (91M) [application/x-gzip]\n",
      "Saving to: ‘/tmp/julia.tar.gz’\n",
      "\n",
      "/tmp/julia.tar.gz   100%[===================>]  91.49M   131MB/s    in 0.7s    \n",
      "\n",
      "2020-04-28 17:17:41 (131 MB/s) - ‘/tmp/julia.tar.gz’ saved [95929584/95929584]\n",
      "\n",
      "   Cloning default registries into `~/.julia`\n",
      "   Cloning registry from \"https://github.com/JuliaRegistries/General.git\"\n",
      "\u001b[2K\u001b[?25h     Added registry `General` to `~/.julia/registries/General`\n",
      " Resolving package versions...\n",
      " Installed NaNMath ──────────── v0.3.3\n",
      " Installed Bzip2_jll ────────── v1.0.6+2\n",
      " Installed libvorbis_jll ────── v1.3.6+2\n",
      " Installed LibVPX_jll ───────── v1.8.1+1\n",
      " Installed PlotUtils ────────── v1.0.0\n",
      " Installed x265_jll ─────────── v3.0.0+0\n",
      " Installed Plots ────────────── v1.1.2\n",
      " Installed StatsBase ────────── v0.33.0\n",
      " Installed DataAPI ──────────── v1.3.0\n",
      " Installed FriBidi_jll ──────── v1.0.5+2\n",
      " Installed PlotThemes ───────── v2.0.0\n",
      " Installed GeometryTypes ────── v0.8.2\n",
      " Installed Showoff ──────────── v0.3.1\n",
      " Installed Measures ─────────── v0.3.1\n",
      " Installed OpenSSL_jll ──────── v1.1.1+2\n",
      " Installed FFMPEG ───────────── v0.3.0\n",
      " Installed StaticArrays ─────── v0.12.2\n",
      " Installed RecipesBase ──────── v1.0.1\n",
      " Installed Requires ─────────── v1.0.1\n",
      " Installed Zlib_jll ─────────── v1.2.11+9\n",
      " Installed FreeType2_jll ────── v2.10.1+2\n",
      " Installed ColorTypes ───────── v0.10.2\n",
      " Installed DataStructures ───── v0.17.13\n",
      " Installed x264_jll ─────────── v2019.5.25+1\n",
      " Installed FixedPointNumbers ── v0.8.0\n",
      " Installed Parsers ──────────── v1.0.2\n",
      " Installed JSON ─────────────── v0.21.0\n",
      " Installed Colors ───────────── v0.12.0\n",
      " Installed Reexport ─────────── v0.2.0\n",
      " Installed SortingAlgorithms ── v0.3.1\n",
      " Installed OrderedCollections ─ v1.1.0\n",
      " Installed GR ───────────────── v0.48.0\n",
      " Installed libfdk_aac_jll ───── v0.1.6+1\n",
      " Installed FFMPEG_jll ───────── v4.1.0+2\n",
      " Installed libass_jll ───────── v0.14.0+1\n",
      " Installed RecipesPipeline ──── v0.1.6\n",
      " Installed Contour ──────────── v0.5.2\n",
      " Installed Ogg_jll ──────────── v1.3.3+0\n",
      " Installed Missings ─────────── v0.4.3\n",
      " Installed ColorSchemes ─────── v3.9.0\n",
      " Installed LAME_jll ─────────── v3.100.0+0\n",
      " Installed Opus_jll ─────────── v1.3.1+0\n",
      "  Updating `~/.julia/environments/v1.3/Project.toml`\n",
      "  [91a5bcdd] + Plots v1.1.2\n",
      "  Updating `~/.julia/environments/v1.3/Manifest.toml`\n",
      "  [6e34b625] + Bzip2_jll v1.0.6+2\n",
      "  [35d6a980] + ColorSchemes v3.9.0\n",
      "  [3da002f7] + ColorTypes v0.10.2\n",
      "  [5ae59095] + Colors v0.12.0\n",
      "  [d38c429a] + Contour v0.5.2\n",
      "  [9a962f9c] + DataAPI v1.3.0\n",
      "  [864edb3b] + DataStructures v0.17.13\n",
      "  [c87230d0] + FFMPEG v0.3.0\n",
      "  [b22a6f82] + FFMPEG_jll v4.1.0+2\n",
      "  [53c48c17] + FixedPointNumbers v0.8.0\n",
      "  [d7e528f0] + FreeType2_jll v2.10.1+2\n",
      "  [559328eb] + FriBidi_jll v1.0.5+2\n",
      "  [28b8d3ca] + GR v0.48.0\n",
      "  [4d00f742] + GeometryTypes v0.8.2\n",
      "  [682c06a0] + JSON v0.21.0\n",
      "  [c1c5ebd0] + LAME_jll v3.100.0+0\n",
      "  [dd192d2f] + LibVPX_jll v1.8.1+1\n",
      "  [442fdcdd] + Measures v0.3.1\n",
      "  [e1d29d7a] + Missings v0.4.3\n",
      "  [77ba4419] + NaNMath v0.3.3\n",
      "  [e7412a2a] + Ogg_jll v1.3.3+0\n",
      "  [458c3c95] + OpenSSL_jll v1.1.1+2\n",
      "  [91d4177d] + Opus_jll v1.3.1+0\n",
      "  [bac558e1] + OrderedCollections v1.1.0\n",
      "  [69de0a69] + Parsers v1.0.2\n",
      "  [ccf2f8ad] + PlotThemes v2.0.0\n",
      "  [995b91a9] + PlotUtils v1.0.0\n",
      "  [91a5bcdd] + Plots v1.1.2\n",
      "  [3cdcf5f2] + RecipesBase v1.0.1\n",
      "  [01d81517] + RecipesPipeline v0.1.6\n",
      "  [189a3867] + Reexport v0.2.0\n",
      "  [ae029012] + Requires v1.0.1\n",
      "  [992d4aef] + Showoff v0.3.1\n",
      "  [a2af1166] + SortingAlgorithms v0.3.1\n",
      "  [90137ffa] + StaticArrays v0.12.2\n",
      "  [2913bbd2] + StatsBase v0.33.0\n",
      "  [83775a58] + Zlib_jll v1.2.11+9\n",
      "  [0ac62f75] + libass_jll v0.14.0+1\n",
      "  [f638f0a6] + libfdk_aac_jll v0.1.6+1\n",
      "  [f27f6e37] + libvorbis_jll v1.3.6+2\n",
      "  [1270edf5] + x264_jll v2019.5.25+1\n",
      "  [dfaa095f] + x265_jll v3.0.0+0\n",
      "  [2a0f44e3] + Base64 \n",
      "  [ade2ca70] + Dates \n",
      "  [8bb1440f] + DelimitedFiles \n",
      "  [8ba89e20] + Distributed \n",
      "  [b77e0a4c] + InteractiveUtils \n",
      "  [76f85450] + LibGit2 \n",
      "  [8f399da3] + Libdl \n",
      "  [37e2e46d] + LinearAlgebra \n",
      "  [56ddb016] + Logging \n",
      "  [d6f4376e] + Markdown \n",
      "  [a63ad114] + Mmap \n",
      "  [44cfe95a] + Pkg \n",
      "  [de0858da] + Printf \n",
      "  [3fa0cd96] + REPL \n",
      "  [9a3f8284] + Random \n",
      "  [ea8e919c] + SHA \n",
      "  [9e88b42a] + Serialization \n",
      "  [6462fe0b] + Sockets \n",
      "  [2f01184e] + SparseArrays \n",
      "  [10745b16] + Statistics \n",
      "  [8dfed614] + Test \n",
      "  [cf7118a7] + UUIDs \n",
      "  [4ec0a83e] + Unicode \n",
      "  Building GR ───→ `~/.julia/packages/GR/yMV3y/deps/build.log`\n",
      "  Building Plots → `~/.julia/packages/Plots/kgqnU/deps/build.log`\n",
      " Resolving package versions...\n",
      " Installed PyPlot ───────── v2.9.0\n",
      " Installed MacroTools ───── v0.5.5\n",
      " Installed VersionParsing ─ v1.2.0\n",
      " Installed LaTeXStrings ─── v1.1.0\n",
      " Installed Conda ────────── v1.4.1\n",
      " Installed PyCall ───────── v1.91.4\n",
      "  Updating `~/.julia/environments/v1.3/Project.toml`\n",
      "  [d330b81b] + PyPlot v2.9.0\n",
      "  Updating `~/.julia/environments/v1.3/Manifest.toml`\n",
      "  [8f4d0f93] + Conda v1.4.1\n",
      "  [b964fa9f] + LaTeXStrings v1.1.0\n",
      "  [1914dd2f] + MacroTools v0.5.5\n",
      "  [438e738f] + PyCall v1.91.4\n",
      "  [d330b81b] + PyPlot v2.9.0\n",
      "  [81def892] + VersionParsing v1.2.0\n",
      "  Building Conda ─→ `~/.julia/packages/Conda/3rPhK/deps/build.log`\n",
      "  Building PyCall → `~/.julia/packages/PyCall/zqDXB/deps/build.log`\n",
      " Resolving package versions...\n",
      " Installed MbedTLS_jll ───── v2.16.0+2\n",
      " Installed MbedTLS ───────── v1.0.2\n",
      " Installed ZMQ ───────────── v1.2.0\n",
      " Installed ZeroMQ_jll ────── v4.3.2+2\n",
      " Installed SoftGlobalScope ─ v1.0.10\n",
      " Installed IJulia ────────── v1.21.2\n",
      "  Updating `~/.julia/environments/v1.3/Project.toml`\n",
      "  [7073ff75] + IJulia v1.21.2\n",
      "  Updating `~/.julia/environments/v1.3/Manifest.toml`\n",
      "  [7073ff75] + IJulia v1.21.2\n",
      "  [739be429] + MbedTLS v1.0.2\n",
      "  [c8ffd9c3] + MbedTLS_jll v2.16.0+2\n",
      "  [b85f4697] + SoftGlobalScope v1.0.10\n",
      "  [c2297ded] + ZMQ v1.2.0\n",
      "  [8f1865be] + ZeroMQ_jll v4.3.2+2\n",
      "  [7b1f6079] + FileWatching \n",
      "  Building IJulia → `~/.julia/packages/IJulia/DrVMH/deps/build.log`\n",
      " Resolving package versions...\n",
      " Installed TimerOutputs ───────────────── v0.5.5\n",
      " Installed GPUArrays ──────────────────── v3.2.0\n",
      " Installed NNlib ──────────────────────── v0.6.6\n",
      " Installed CuArrays ───────────────────── v2.1.0\n",
      " Installed AutoGrad ───────────────────── v1.2.1\n",
      " Installed CompilerSupportLibraries_jll ─ v0.3.3+0\n",
      " Installed Cthulhu ────────────────────── v1.0.2\n",
      " Installed CodecZlib ──────────────────── v0.7.0\n",
      " Installed SpecialFunctions ───────────── v0.10.0\n",
      " Installed ExprTools ──────────────────── v0.1.1\n",
      " Installed AbstractFFTs ───────────────── v0.5.0\n",
      " Installed CUDAapi ────────────────────── v4.0.0\n",
      " Installed CodeTracking ───────────────── v0.5.9\n",
      " Installed CEnum ──────────────────────── v0.2.0\n",
      " Installed Adapt ──────────────────────── v1.0.1\n",
      " Installed JLD2 ───────────────────────── v0.1.13\n",
      " Installed LLVM ───────────────────────── v1.3.4\n",
      " Installed TranscodingStreams ─────────── v0.9.5\n",
      " Installed CUDAdrv ────────────────────── v6.2.3\n",
      " Installed BinaryProvider ─────────────── v0.5.8\n",
      " Installed OpenSpecFun_jll ────────────── v0.5.3+3\n",
      " Installed CUDAnative ─────────────────── v3.0.4\n",
      " Installed FileIO ─────────────────────── v1.2.4\n",
      " Installed Knet ───────────────────────── v1.3.5\n",
      "  Updating `~/.julia/environments/v1.3/Project.toml`\n",
      "  [1902f260] + Knet v1.3.5\n",
      "  Updating `~/.julia/environments/v1.3/Manifest.toml`\n",
      "  [621f4979] + AbstractFFTs v0.5.0\n",
      "  [79e6a3ab] + Adapt v1.0.1\n",
      "  [6710c13c] + AutoGrad v1.2.1\n",
      "  [b99e7846] + BinaryProvider v0.5.8\n",
      "  [fa961155] + CEnum v0.2.0\n",
      "  [3895d2a7] + CUDAapi v4.0.0\n",
      "  [c5f51814] + CUDAdrv v6.2.3\n",
      "  [be33ccc6] + CUDAnative v3.0.4\n",
      "  [da1fd8a2] + CodeTracking v0.5.9\n",
      "  [944b1d66] + CodecZlib v0.7.0\n",
      "  [e66e0078] + CompilerSupportLibraries_jll v0.3.3+0\n",
      "  [f68482b8] + Cthulhu v1.0.2\n",
      "  [3a865a2d] + CuArrays v2.1.0\n",
      "  [e2ba6199] + ExprTools v0.1.1\n",
      "  [5789e2e9] + FileIO v1.2.4\n",
      "  [0c68f7d7] + GPUArrays v3.2.0\n",
      "  [033835bb] + JLD2 v0.1.13\n",
      "  [1902f260] + Knet v1.3.5\n",
      "  [929cbde3] + LLVM v1.3.4\n",
      "  [872c559c] + NNlib v0.6.6\n",
      "  [efe28fd5] + OpenSpecFun_jll v0.5.3+3\n",
      "  [276daf66] + SpecialFunctions v0.10.0\n",
      "  [a759f4b9] + TimerOutputs v0.5.5\n",
      "  [3bb67fe8] + TranscodingStreams v0.9.5\n",
      "  Building NNlib → `~/.julia/packages/NNlib/FAI3o/deps/build.log`\n",
      "  Building Knet ─→ `~/.julia/packages/Knet/bTNMd/deps/build.log`\n",
      " Resolving package versions...\n",
      " Installed BinDeps ───────── v1.0.1\n",
      " Installed CMakeWrapper ──── v0.2.3\n",
      " Installed HDF5_jll ──────── v1.10.5+5\n",
      " Installed Blosc ─────────── v0.6.0\n",
      " Installed CMake ─────────── v1.2.0\n",
      " Installed URIParser ─────── v0.4.1\n",
      " Installed HDF5 ──────────── v0.13.1\n",
      " Installed Compat ────────── v3.8.0\n",
      " Installed BufferedStreams ─ v1.0.0\n",
      " Installed MAT ───────────── v0.8.0\n",
      " Installed Parameters ────── v0.12.0\n",
      "  Updating `~/.julia/environments/v1.3/Project.toml`\n",
      "  [23992714] + MAT v0.8.0\n",
      "  Updating `~/.julia/environments/v1.3/Manifest.toml`\n",
      "  [9e28174c] + BinDeps v1.0.1\n",
      "  [a74b3585] + Blosc v0.6.0\n",
      "  [e1450e63] + BufferedStreams v1.0.0\n",
      "  [631607c0] + CMake v1.2.0\n",
      "  [d5fb7624] + CMakeWrapper v0.2.3\n",
      "  [34da2185] + Compat v3.8.0\n",
      "  [f67ccb44] + HDF5 v0.13.1\n",
      "  [0234f1f7] + HDF5_jll v1.10.5+5\n",
      "  [23992714] + MAT v0.8.0\n",
      "  [d96e819e] + Parameters v0.12.0\n",
      "  [30578b45] + URIParser v0.4.1\n",
      "  [1a1011a3] + SharedArrays \n",
      "  Building CMake → `~/.julia/packages/CMake/ULbyn/deps/build.log`\n",
      "  Building Blosc → `~/.julia/packages/Blosc/ZgcAM/deps/build.log`\n",
      "  Building HDF5 ─→ `~/.julia/packages/HDF5/ECBXn/deps/build.log`\n",
      "  Building NNlib → `~/.julia/packages/NNlib/FAI3o/deps/build.log`\n",
      "  Building Knet ─→ `~/.julia/packages/Knet/bTNMd/deps/build.log`\n"
     ]
    },
    {
     "data": {
      "text/plain": []
     },
     "execution_count": 2,
     "metadata": {
      "tags": []
     },
     "output_type": "execute_result"
    }
   ],
   "source": [
    "# Installation cell\n",
    "%%shell\n",
    "if ! command -v julia 2>&1 > /dev/null\n",
    "then\n",
    "    wget 'https://julialang-s3.julialang.org/bin/linux/x64/1.3/julia-1.3.1-linux-x86_64.tar.gz' \\\n",
    "        -O /tmp/julia.tar.gz\n",
    "    tar -x -f /tmp/julia.tar.gz -C /usr/local --strip-components 1\n",
    "    rm /tmp/julia.tar.gz\n",
    "fi\n",
    "julia -e 'using Pkg; pkg\"add Plots; add PyPlot; add IJulia; add Knet; add MAT;\"'\n",
    "julia -e 'using Pkg; pkg\"build Knet;\"'"
   ]
  },
  {
   "cell_type": "code",
   "execution_count": 1,
   "metadata": {
    "colab": {
     "base_uri": "https://localhost:8080/",
     "height": 69
    },
    "colab_type": "code",
    "id": "1VdFDb9szt_o",
    "outputId": "976c12c0-35a3-4807-e701-c5740cb8b3c3"
   },
   "outputs": [
    {
     "name": "stderr",
     "output_type": "stream",
     "text": [
      "┌ Info: Precompiling Knet [1902f260-5fb4-5aff-8c31-6271790ab950]\n",
      "└ @ Base loading.jl:1273\n"
     ]
    },
    {
     "data": {
      "text/plain": [
       "0"
      ]
     },
     "execution_count": 1,
     "metadata": {
      "tags": []
     },
     "output_type": "execute_result"
    }
   ],
   "source": [
    "using Knet\n",
    "# Test if Knet is using gpu\n",
    "Knet.gpu()"
   ]
  },
  {
   "cell_type": "code",
   "execution_count": 2,
   "metadata": {
    "colab": {
     "base_uri": "https://localhost:8080/",
     "height": 295
    },
    "colab_type": "code",
    "id": "keEn3xOtNOD8",
    "outputId": "222161e8-e1d8-43fa-fcd6-51ec10850b8b"
   },
   "outputs": [
    {
     "name": "stdout",
     "output_type": "stream",
     "text": [
      "\u001b[32m\u001b[1m  Updating\u001b[22m\u001b[39m registry at `~/.julia/registries/General`\n",
      "\u001b[32m\u001b[1m  Updating\u001b[22m\u001b[39m git-repo `https://github.com/JuliaRegistries/General.git`\n",
      "\u001b[2K\u001b[?25h\u001b[32m\u001b[1m Resolving\u001b[22m\u001b[39m package versions...\n",
      "\u001b[32m\u001b[1m Installed\u001b[22m\u001b[39m IterTools ─ v1.3.0\n",
      "\u001b[32m\u001b[1m  Updating\u001b[22m\u001b[39m `~/.julia/environments/v1.3/Project.toml`\n",
      " \u001b[90m [c8e1da08]\u001b[39m\u001b[92m + IterTools v1.3.0\u001b[39m\n",
      "\u001b[32m\u001b[1m  Updating\u001b[22m\u001b[39m `~/.julia/environments/v1.3/Manifest.toml`\n",
      " \u001b[90m [c8e1da08]\u001b[39m\u001b[92m + IterTools v1.3.0\u001b[39m\n"
     ]
    },
    {
     "name": "stderr",
     "output_type": "stream",
     "text": [
      "┌ Info: Precompiling IterTools [c8e1da08-722c-5040-9ed9-7db0dc04731e]\n",
      "└ @ Base loading.jl:1273\n",
      "┌ Info: Precompiling PyPlot [d330b81b-6aea-500a-939a-2ce795aea3ee]\n",
      "└ @ Base loading.jl:1273\n",
      "┌ Info: Precompiling Plots [91a5bcdd-55d7-5caf-9e0b-520d859cae80]\n",
      "└ @ Base loading.jl:1273\n",
      "┌ Info: Precompiling MAT [23992714-dd62-5051-b70f-ba57cb901cac]\n",
      "└ @ Base loading.jl:1273\n"
     ]
    }
   ],
   "source": [
    "# Setup display width, load packages, import symbols\n",
    "ENV[\"COLUMNS\"]=72\n",
    "using Pkg; for p in\n",
    " (\"Knet\",\"IterTools\",\"Plots\"); haskey(Pkg.installed(),p) || Pkg.add(p); end\n",
    "\n",
    "using Base.Iterators: flatten\n",
    "using IterTools: ncycle, takenth\n",
    "using Statistics: mean\n",
    "using Knet: Knet, conv4, pool, mat, KnetArray, nll, zeroone, progress, sgd, param, param0, dropout, relu, Data, gpu\n",
    "using PyPlot\n",
    "using Plots\n",
    "using MAT\n",
    "IJulia.set_max_stdio(1<<25);"
   ]
  },
  {
   "cell_type": "code",
   "execution_count": null,
   "metadata": {
    "colab": {},
    "colab_type": "code",
    "id": "b_7F3I8R176U"
   },
   "outputs": [],
   "source": []
  },
  {
   "cell_type": "code",
   "execution_count": null,
   "metadata": {
    "colab": {},
    "colab_type": "code",
    "id": "RhF0_zyoNQZ1"
   },
   "outputs": [],
   "source": [
    "include(Knet.dir(\"data\",\"mnist.jl\"))  # Load data\n",
    "  "
   ]
  },
  {
   "cell_type": "code",
   "execution_count": 135,
   "metadata": {
    "colab": {
     "base_uri": "https://localhost:8080/",
     "height": 34
    },
    "colab_type": "code",
    "id": "10K41_YE-_rh",
    "outputId": "8da20365-b6b2-4824-b33f-eadbcf9669d2"
   },
   "outputs": [
    {
     "data": {
      "text/plain": [
       "2"
      ]
     },
     "execution_count": 135,
     "metadata": {
      "tags": []
     },
     "output_type": "execute_result"
    }
   ],
   "source": [
    "use_reconstruction_loss = true\n",
    "number_of_iteration = 3;\n",
    "number_of_epochs = 10;\n",
    "conv_layer_channel_number = 256\n",
    "dimension_of_PrimaryCaps_vector = 8\n",
    "number_of_PrimaryCaps = 8*8*32\n",
    "height_width_of_PrimaryCaps = 8\n",
    "number_of_class = 10\n",
    "dimension_of_DigitCaps = 16\n",
    "first_conv_layer_size = 13\n",
    "first_conv_layer_stride = 1\n",
    "second_conv_layer_size = 13\n",
    "second_conv_layer_stride = 2"
   ]
  },
  {
   "cell_type": "code",
   "execution_count": null,
   "metadata": {
    "colab": {},
    "colab_type": "code",
    "id": "jusT5Svs2KAM"
   },
   "outputs": [],
   "source": [
    "get_files_from_drive = false; # I used it for using with colab and google drive\n",
    "use_reconstruction_loss = true #  Saved datas only availabl true on mnist enlarged\n",
    "number_of_iteration = 3;  # Saved datas only available for 3. Any integer more than 1 can be selected but training from scratch will be required.\n",
    "number_of_epochs = 10;"
   ]
  },
  {
   "cell_type": "code",
   "execution_count": null,
   "metadata": {
    "colab": {},
    "colab_type": "code",
    "id": "1PssU57W2Gxp"
   },
   "outputs": [],
   "source": [
    "# Initializing parameters\n",
    "\n",
    "batch_size = 50;\n",
    "height_width_of_Image = 40\n",
    "conv_layer_channel_number = 256\n",
    "dimension_of_PrimaryCaps_vector = 8\n",
    "number_of_PrimaryCaps = 8*8*32\n",
    "height_width_of_PrimaryCaps = 8\n",
    "number_of_class = 10\n",
    "dimension_of_DigitCaps = 16\n",
    "total_size_of_Digitcaps = dimension_of_DigitCaps*number_of_class;\n",
    "first_conv_layer_size = 13\n",
    "first_conv_layer_stride = 1\n",
    "second_conv_layer_size = 13\n",
    "second_conv_layer_stride = 2\n",
    "decoder_dense_layer_1_size = 1024\n",
    "decoder_dense_layer_2_size = 2048\n",
    "decoder_dense_layer_3_size = height_width_of_Image*height_width_of_Image;\n",
    "#Parameters used in margin loss function\n",
    "m_plus = 0.9;\n",
    "m_minus = 0.1;\n",
    "lambda = 0.5;\n",
    "r_loss = 0.0005;"
   ]
  },
  {
   "cell_type": "code",
   "execution_count": 82,
   "metadata": {
    "colab": {
     "base_uri": "https://localhost:8080/",
     "height": 34
    },
    "colab_type": "code",
    "id": "l2IGpN-kqNj3",
    "outputId": "1dbe3763-7651-4096-8388-c1d96c9fb625"
   },
   "outputs": [
    {
     "data": {
      "text/plain": [
       "batch_visualization (generic function with 1 method)"
      ]
     },
     "execution_count": 82,
     "metadata": {
      "tags": []
     },
     "output_type": "execute_result"
    }
   ],
   "source": [
    "\n",
    "function batch_visualization(x,width)\n",
    "c = mat(x)\n",
    "image_knet_array = convert(KnetArray{Float64,2},zeros(width*10,width*5));\n",
    "for i = 1: 10\n",
    "  for j = 1: 5\n",
    "    image_knet_array[(i-1)*width+1:(i*width),(j-1)*width+1:(j*width)]  = convert(Array{Float64},reshape(c[:,(i-1)*5+j]',(width,width)));\n",
    "  end\n",
    "end\n",
    "full_image = convert(Array{Float64,2},image_knet_array');\n",
    "imshow(full_image, cmap=\"gray\")\n",
    "axis(\"off\");\n",
    "end\n",
    "\n"
   ]
  },
  {
   "cell_type": "code",
   "execution_count": 83,
   "metadata": {
    "colab": {
     "base_uri": "https://localhost:8080/",
     "height": 34
    },
    "colab_type": "code",
    "id": "oZoAOAaBt-AD",
    "outputId": "e2a32c41-0d8a-4274-c5df-60e8accac3b0"
   },
   "outputs": [
    {
     "data": {
      "text/plain": [
       "minibatch_custom (generic function with 2 methods)"
      ]
     },
     "execution_count": 83,
     "metadata": {
      "tags": []
     },
     "output_type": "execute_result"
    }
   ],
   "source": [
    "function minibatch_custom(X, Y, bs=50)\n",
    "    #takes raw input (X) and gold labels (Y)\n",
    "    #returns list of minibatches (x, y)\n",
    "    data = Any[]\n",
    "    for i = 1 : bs : size(X,4)\n",
    "        push!(data,(X[:,:,:,i:i+bs-1],Y[i:i+bs-1]))\n",
    "    end\n",
    "    return data                                                                 \n",
    "end "
   ]
  },
  {
   "cell_type": "code",
   "execution_count": 84,
   "metadata": {
    "colab": {
     "base_uri": "https://localhost:8080/",
     "height": 34
    },
    "colab_type": "code",
    "id": "TmfHxEoRw7cL",
    "outputId": "5c99520c-b89f-41c6-abf3-4add101d9a94"
   },
   "outputs": [
    {
     "data": {
      "text/plain": [
       "create_enlarged_mnist_batches (generic function with 1 method)"
      ]
     },
     "execution_count": 84,
     "metadata": {
      "tags": []
     },
     "output_type": "execute_result"
    }
   ],
   "source": [
    " function create_enlarged_mnist_batches()\n",
    "  xtrn, ytrn, xtst, ytst = mnist() # loading the data\n",
    "  xtrn = reshape(xtrn, 784, 60000)\n",
    "  xtst = reshape(xtst, 784, 10000)\n",
    "  a = reshape(xtrn,28,28,60000)\n",
    "  b = reshape(xtst,28,28,10000)\n",
    "  affine_xtrn = zeros(40,40,60000)\n",
    "  affine_xtst = zeros(40,40,10000)\n",
    "  for i = 1 : 60000\n",
    "    x_shift = Int(ceil(rand()*20))\n",
    "    y_shift = Int(ceil(rand()*20))\n",
    "    affine_xtrn[x_shift:x_shift+19,y_shift:y_shift+19,i] = a[5:24,5:24,i]\n",
    "  end\n",
    "\n",
    "  for i = 1 : 10000\n",
    "    x_shift = Int(ceil(rand()*20))\n",
    "    y_shift = Int(ceil(rand()*20))\n",
    "    affine_xtst[x_shift:x_shift+19,y_shift:y_shift+19,i] = b[5:24,5:24,i]\n",
    "  end\n",
    "\n",
    "  affine_xtrn = reshape(affine_xtrn,(40,40,1,60000))\n",
    "  affine_xtrn = convert(KnetArray{Float32},affine_xtrn)\n",
    "\n",
    "  affine_xtst = reshape(affine_xtst,(40,40,1,10000))\n",
    "  affine_xtst = convert(KnetArray{Float32},affine_xtst)\n",
    "  dtrn = minibatch_custom(affine_xtrn,ytrn)\n",
    "  dtst = minibatch_custom(affine_xtst,ytst)\n",
    "  return dtrn , dtst\n",
    "end"
   ]
  },
  {
   "cell_type": "code",
   "execution_count": null,
   "metadata": {
    "colab": {},
    "colab_type": "code",
    "id": "sh0bf4j61jGt"
   },
   "outputs": [],
   "source": [
    "dtrn,dtst = create_enlarged_mnist_batches();"
   ]
  },
  {
   "cell_type": "code",
   "execution_count": 86,
   "metadata": {
    "colab": {
     "base_uri": "https://localhost:8080/",
     "height": 34
    },
    "colab_type": "code",
    "id": "IpdrbSkxN6XY",
    "outputId": "168a4e9e-f454-46f1-e677-90f93a239731"
   },
   "outputs": [
    {
     "data": {
      "text/plain": [
       "squashing (generic function with 1 method)"
      ]
     },
     "execution_count": 86,
     "metadata": {
      "tags": []
     },
     "output_type": "execute_result"
    }
   ],
   "source": [
    "# Squashing function definition\n",
    "function squashing(s; axis=2)\n",
    "  norm2 = sum(abs2.(s),dims=axis);\n",
    "  scaled = s./sqrt.(norm2);\n",
    "  result = (norm2./(norm2.+1)).*scaled;\n",
    "end"
   ]
  },
  {
   "cell_type": "code",
   "execution_count": 87,
   "metadata": {
    "colab": {
     "base_uri": "https://localhost:8080/",
     "height": 34
    },
    "colab_type": "code",
    "id": "TkfamrfVtbMk",
    "outputId": "51f1b29f-0af0-4c52-ad41-c1cd49d7d5bc"
   },
   "outputs": [
    {
     "data": {
      "text/plain": [
       "masking (generic function with 1 method)"
      ]
     },
     "execution_count": 87,
     "metadata": {
      "tags": []
     },
     "output_type": "execute_result"
    }
   ],
   "source": [
    "#Defining masking function with returns only one column for correct prediction in digit caps\n",
    "function masking(v,yh)\n",
    "  expander = convert(KnetArray{Float32},ones(10,50,16));\n",
    "  masker = permutedims(yh.*expander,(1,3,2));\n",
    "  masked = v.*masker;\n",
    "end"
   ]
  },
  {
   "cell_type": "code",
   "execution_count": 88,
   "metadata": {
    "colab": {
     "base_uri": "https://localhost:8080/",
     "height": 34
    },
    "colab_type": "code",
    "id": "FliRYP5HpiRf",
    "outputId": "639058e9-9b3f-4427-8d3f-3d6115293e2c"
   },
   "outputs": [
    {
     "data": {
      "text/plain": [
       "to_onehot (generic function with 1 method)"
      ]
     },
     "execution_count": 88,
     "metadata": {
      "tags": []
     },
     "output_type": "execute_result"
    }
   ],
   "source": [
    " # 1D array to one hot vector function or if input is 2D with probabilities it gives one hot vector\n",
    " function to_onehot(y;target_type = KnetArray{Float32} ,num_class = 10)\n",
    "  if length(size(y)) == 1 \n",
    "          length_y = length(y)\n",
    "          onehot = convert(target_type,zeros(num_class, length_y))\n",
    "          for i = 1 : length_y\n",
    "            onehot[y[i],i]=1;\n",
    "          end\n",
    "          result = onehot\n",
    "    elseif length(size(y)) == 2\n",
    "          num_class = size(y,1)\n",
    "          length_y= size(y,2)  \n",
    "          onehot = convert(target_type,zeros(num_class, length_y))\n",
    "          maxes = maximum(y, dims = 1)\n",
    "          for j=1:length_y\n",
    "              for i=1:num_class\n",
    "                  if maxes[j]==y[i,j]\n",
    "                  onehot[i,j] = 1\n",
    "                  end\n",
    "             end\n",
    "          end\n",
    "          result = onehot\n",
    "    end\n",
    "  return result\n",
    "  end"
   ]
  },
  {
   "cell_type": "code",
   "execution_count": 89,
   "metadata": {
    "colab": {
     "base_uri": "https://localhost:8080/",
     "height": 34
    },
    "colab_type": "code",
    "id": "K3OFOBnFhA4y",
    "outputId": "21db9751-d496-4b69-d884-1b42a7dcba54"
   },
   "outputs": [
    {
     "data": {
      "text/plain": [
       "getFileName (generic function with 4 methods)"
      ]
     },
     "execution_count": 89,
     "metadata": {
      "tags": []
     },
     "output_type": "execute_result"
    }
   ],
   "source": [
    "# Calculating loss and error on data set with using W array \n",
    "function calculate_loss_and_error(trained_ws,data,model;numIter=3)\n",
    "  l_ws = length(trained_ws)\n",
    "  error_in_epochs = Float64[]\n",
    "  loss_in_epochs = Float64[]\n",
    "\n",
    "  for i = 1:l_ws\n",
    "    current_w = trained_ws[i];\n",
    "    loss_network_current_weight = loss_network(current_w,data,model;withReconstruct = false,numIter=numIter);\n",
    "    accuracy_error_current_weight = error_in_data(current_w,data,model;numIter=numIter);\n",
    "    push!(error_in_epochs,accuracy_error_current_weight)\n",
    "    push!(loss_in_epochs,loss_network_current_weight)\n",
    "  end\n",
    "  return error_in_epochs, loss_in_epochs\n",
    "end\n",
    "\n",
    "# Showing result functions\n",
    "function show_results(train_err,train_loss,test_err,test_loss)\n",
    "  all_results = Any[];\n",
    "  push!(all_results,train_err)\n",
    "  push!(all_results,train_loss)\n",
    "  push!(all_results,test_err)\n",
    "  push!(all_results,test_loss)\n",
    "\n",
    "  x_datas = 1:length(train_err);\n",
    "  PyPlot.plot(x_datas,train_err)\n",
    "  PyPlot.plot(x_datas,test_err)\n",
    "  PyPlot.legend([\"Train\",\"Test\"])\n",
    "  PyPlot.ylabel(\"Accuracy Error\")\n",
    "  PyPlot.xlabel(\"Epochs\")\n",
    "  PyPlot.title(\"Accuracy Error Comparison\")\n",
    "  PyPlot.figure()\n",
    "  PyPlot.plot(x_datas,train_loss)\n",
    "  PyPlot.plot(x_datas,test_loss)\n",
    "  PyPlot.legend([\"Train\",\"Test\"])\n",
    "  PyPlot.ylabel(\"Loss Error\")\n",
    "  PyPlot.xlabel(\"Epochs\")\n",
    "  PyPlot.title(\"Loss Comparison\")\n",
    "  return all_results;\n",
    "end\n",
    "\n",
    "function show_error_on_affnist(test_err)  \n",
    "  x_datas = 1:length(test_err);\n",
    "  PyPlot.plot(x_datas,test_err)\n",
    "  PyPlot.legend([\"Test\"])\n",
    "  PyPlot.ylabel(\"Accuracy Error\")\n",
    "  PyPlot.title(\"Accuracy Error Tested on Affnist\")\n",
    "  PyPlot.xlabel(\"Epochs\")\n",
    "end\n",
    "\n",
    "\n",
    "function show_results(test_err,test_loss)\n",
    "  all_results = Any[];\n",
    "  push!(all_results,test_err)\n",
    "  push!(all_results,test_loss)\n",
    "  x_datas = 1:length(test_err);\n",
    "  PyPlot.plot(x_datas,test_err)\n",
    "  PyPlot.legend([\"Test\"])\n",
    "  PyPlot.ylabel(\"Accuracy Error\")\n",
    "  PyPlot.xlabel(\"Epochs\")\n",
    "  PyPlot.title(\"Accuracy Error\")\n",
    "  PyPlot.figure()\n",
    "  PyPlot.plot(x_datas,test_loss)\n",
    "  PyPlot.legend([\"Test\"])\n",
    "  PyPlot.ylabel(\"Loss Error\")\n",
    "  PyPlot.xlabel(\"Epochs\")\n",
    "  PyPlot.title(\"Loss\")\n",
    "  return all_results;\n",
    "end\n",
    "\n",
    "function show_results(results)\n",
    "  if length(results) == 2\n",
    "    show_results(results[1],results[2])\n",
    "  elseif length(results) == 4\n",
    "    show_results(results[1],results[2],results[3],results[4])\n",
    "  end\n",
    "end\n",
    "\n",
    "#Function for getting file name dependent on variables \n",
    "function getFileName(type = \"w\" ; fromDrive = false)\n",
    "if fromDrive\n",
    "  loc = \"/content/gdrive/My Drive/Comp541-Datas/final_weight_upload/capsnet_trained_on_enlarged_mnist_\"*type*\".jld2\";\n",
    "else\n",
    "  loc = pwd()*\"/Datas/capsnet_trained_on_enlarged_mnist_\"*type*\".jld2\"\n",
    "end\n",
    "  return loc\n",
    "end"
   ]
  },
  {
   "cell_type": "code",
   "execution_count": 90,
   "metadata": {
    "colab": {
     "base_uri": "https://localhost:8080/",
     "height": 34
    },
    "colab_type": "code",
    "id": "QSQQaUAN85sr",
    "outputId": "c25006a6-2116-4bf3-82cd-1ac3fc047363"
   },
   "outputs": [
    {
     "data": {
      "text/plain": [
       "convolution_layer (generic function with 1 method)"
      ]
     },
     "execution_count": 90,
     "metadata": {
      "tags": []
     },
     "output_type": "execute_result"
    }
   ],
   "source": [
    "# Creates convolution layer for network\n",
    "function convolution_layer(w, x)\n",
    "    x = relu.(conv4(w[1], x, stride = first_conv_layer_stride) .+ w[2])\n",
    "    x = relu.(conv4(w[3], x, stride = second_conv_layer_stride) .+ w[4])\n",
    "    return x\n",
    "end"
   ]
  },
  {
   "cell_type": "code",
   "execution_count": 119,
   "metadata": {
    "colab": {
     "base_uri": "https://localhost:8080/",
     "height": 34
    },
    "colab_type": "code",
    "id": "u515q2X_BAqy",
    "outputId": "22dcab7e-f40d-498e-b88d-b9e0750b85b6"
   },
   "outputs": [
    {
     "data": {
      "text/plain": [
       "caps_layer (generic function with 1 method)"
      ]
     },
     "execution_count": 119,
     "metadata": {
      "tags": []
     },
     "output_type": "execute_result"
    }
   ],
   "source": [
    "# Creates capsule layer for network\n",
    "function caps_layer(w,x,numIter)\n",
    "x = reshape(x,(height_width_of_PrimaryCaps,height_width_of_PrimaryCaps,dimension_of_PrimaryCaps_vector,32,batch_size));\n",
    "x = permutedims(x,(1,2,4,3,5));\n",
    "x = reshape(x,(number_of_PrimaryCaps,dimension_of_PrimaryCaps_vector,1,1,batch_size));\n",
    "w_expander = convert(KnetArray{Float32},ones(size(w,1),size(w,2),size(w,3),size(w,4),batch_size));\n",
    "w_expanded = w_expander.*w;\n",
    "\n",
    "u_hat = sum(w_expanded.*x,dims=2);\n",
    "u_hat = reshape(u_hat,(number_of_PrimaryCaps,number_of_class,dimension_of_DigitCaps,batch_size));\n",
    "\n",
    "b = convert(KnetArray{Float32},zeros(size(w,1),size(w,3),1,batch_size));\n",
    "for i = 1 :(numIter)\n",
    "    c = softmax(b,dims=2);\n",
    "    s = permutedims(reshape(sum((c.*u_hat),dims=1),dimension_of_DigitCaps,number_of_class,batch_size),(2,1,3));\n",
    "    v = squashing(s);\n",
    "    v = reshape(v,(1,number_of_class,dimension_of_DigitCaps,batch_size));\n",
    "    aggrement = sum(u_hat.*v,dims = 3);\n",
    "    b = b.+aggrement;\n",
    "end;\n",
    "\n",
    "v= reshape(v,(number_of_class,dimension_of_DigitCaps,batch_size));\n",
    "prob = sqrt.(sum(abs2.(v),dims=2));\n",
    "prob = reshape(prob,number_of_class,batch_size);\n",
    "return prob, v\n",
    "\n",
    "end"
   ]
  },
  {
   "cell_type": "code",
   "execution_count": 120,
   "metadata": {
    "colab": {
     "base_uri": "https://localhost:8080/",
     "height": 34
    },
    "colab_type": "code",
    "id": "JBX3W-mIkMIB",
    "outputId": "5ffe2ec4-3b6c-45e2-a924-2f375d122d77"
   },
   "outputs": [
    {
     "data": {
      "text/plain": [
       "decoder_layer (generic function with 1 method)"
      ]
     },
     "execution_count": 120,
     "metadata": {
      "tags": []
     },
     "output_type": "execute_result"
    }
   ],
   "source": [
    "# Creates decoder layer for network which is using in reconstruction\n",
    "function decoder_layer(w,v)  \n",
    "    v = relu.(w[1]*mat(v).+w[2]);\n",
    "    v = relu.(w[3]*mat(v).+w[4]);\n",
    "    v = sigm.(w[5]*mat(v).+ w[6]);\n",
    "    return v\n",
    "end"
   ]
  },
  {
   "cell_type": "code",
   "execution_count": 121,
   "metadata": {
    "colab": {
     "base_uri": "https://localhost:8080/",
     "height": 34
    },
    "colab_type": "code",
    "id": "GLNvhVDk221Y",
    "outputId": "0682f075-ca5d-4230-8179-0668d1aaa23c"
   },
   "outputs": [
    {
     "data": {
      "text/plain": [
       "complete_network (generic function with 1 method)"
      ]
     },
     "execution_count": 121,
     "metadata": {
      "tags": []
     },
     "output_type": "execute_result"
    }
   ],
   "source": [
    "# Creates full layer for network(Decoder layer is only used when reconstruction error is used )\n",
    "function complete_network(w,x,numIter)\n",
    "  x = convolution_layer(w[1:4],x);\n",
    "  return caps_layer(w[5],x,numIter)\n",
    "end"
   ]
  },
  {
   "cell_type": "code",
   "execution_count": 122,
   "metadata": {
    "colab": {
     "base_uri": "https://localhost:8080/",
     "height": 34
    },
    "colab_type": "code",
    "id": "US-UCYas2doZ",
    "outputId": "802371a9-f691-4b5c-a094-27677d86c48b"
   },
   "outputs": [
    {
     "data": {
      "text/plain": [
       "initialize_W (generic function with 1 method)"
      ]
     },
     "execution_count": 122,
     "metadata": {
      "tags": []
     },
     "output_type": "execute_result"
    }
   ],
   "source": [
    "#Initializin W for network\n",
    "function initialize_W(withReconstruct)\n",
    "    wts = Any[ convert(KnetArray{Float32},xavier(first_conv_layer_size,first_conv_layer_size,1,conv_layer_channel_number)),  convert(KnetArray{Float32},zeros(1,1,conv_layer_channel_number,1)), \n",
    "        convert(KnetArray{Float32},xavier(second_conv_layer_size,second_conv_layer_size,conv_layer_channel_number,conv_layer_channel_number)), convert(KnetArray{Float32},zeros(1,1,conv_layer_channel_number,1))]\n",
    "    W = convert(KnetArray{Float32},xavier(number_of_PrimaryCaps,dimension_of_PrimaryCaps_vector,number_of_class,dimension_of_DigitCaps))\n",
    "    push!(wts,W)\n",
    "    if withReconstruct\n",
    "      push!(wts,convert(KnetArray{Float32},xavier(decoder_dense_layer_1_size,total_size_of_Digitcaps)))\n",
    "      push!(wts,convert(KnetArray{Float32},zeros(decoder_dense_layer_1_size,1)))\n",
    "      push!(wts,convert(KnetArray{Float32},xavier(decoder_dense_layer_2_size,decoder_dense_layer_1_size)))\n",
    "      push!(wts,convert(KnetArray{Float32},zeros(decoder_dense_layer_2_size,1)))\n",
    "      push!(wts,convert(KnetArray{Float32},xavier(decoder_dense_layer_3_size,decoder_dense_layer_2_size)))\n",
    "      push!(wts,convert(KnetArray{Float32},zeros(decoder_dense_layer_3_size,1)))\n",
    "    end\n",
    "    return wts\n",
    "end"
   ]
  },
  {
   "cell_type": "code",
   "execution_count": 123,
   "metadata": {
    "colab": {
     "base_uri": "https://localhost:8080/",
     "height": 34
    },
    "colab_type": "code",
    "id": "xzJjQ_m6EXp_",
    "outputId": "c3b1ff7a-2715-4bd6-ba8b-bcddda80540a"
   },
   "outputs": [
    {
     "data": {
      "text/plain": [
       "(::AutoGrad.var\"#gradfun#7\"{AutoGrad.var\"#gradfun#6#8\"{typeof(loss_network),Int64,Bool}}) (generic function with 1 method)"
      ]
     },
     "execution_count": 123,
     "metadata": {
      "tags": []
     },
     "output_type": "execute_result"
    }
   ],
   "source": [
    "# Calculating loss of network\n",
    "function loss_network(w,x, y, model;withReconstruct = false,numIter = 1)\n",
    "    yprob, v = model(w[1:5],x,numIter);\n",
    "    T = to_onehot(y);\n",
    "    margin_loss = sum((T.*abs2.(relu.(m_plus.-yprob)))+lambda.*(1 .-T).*(abs2.(relu.(yprob.-m_minus))));\n",
    "    reconstruction_loss = 0;\n",
    "    if withReconstruct\n",
    "      masked_v = masking(v,T);\n",
    "      decoded_res = decoder_layer(w[6:11],masked_v) ;\n",
    "      reconstruction_loss = sum(abs2.(mat(x).-decoded_res)) \n",
    "    end\n",
    "    loss = margin_loss+reconstruction_loss*r_loss\n",
    "end\n",
    "# Calculating loss of network in dataset\n",
    "loss_network(w,data,model;withReconstruct,numIter) = mean(loss_network(w,x,y,model;withReconstruct = withReconstruct,numIter=numIter) for (x,y) in data)\n",
    "# Grad loss network is defined for using in training\n",
    "grad_loss_network = grad(loss_network)\n"
   ]
  },
  {
   "cell_type": "code",
   "execution_count": 124,
   "metadata": {
    "colab": {
     "base_uri": "https://localhost:8080/",
     "height": 34
    },
    "colab_type": "code",
    "id": "RaFyo8pQ0JOG",
    "outputId": "5e69fc0a-7782-4085-ecef-c6912564fa07"
   },
   "outputs": [
    {
     "data": {
      "text/plain": [
       "train_full_capsnet (generic function with 1 method)"
      ]
     },
     "execution_count": 124,
     "metadata": {
      "tags": []
     },
     "output_type": "execute_result"
    }
   ],
   "source": [
    "function train_full_capsnet(w,data,model;withReconstruct=false,numIter=1,numberOfEpochs=5)\n",
    "    current_batch_no= 0;\n",
    "    total_batch_number = numberOfEpochs*length(data)\n",
    "    weights_for_epochs = Any[]\n",
    "    opts = map(x->Adam(), w) \n",
    "    for i in 1:numberOfEpochs\n",
    "        for (x,y) in data\n",
    "            g = grad_loss_network(w,x,y,model;withReconstruct=withReconstruct,numIter=numIter)\n",
    "            update!(w,g,opts)\n",
    "            Main.IJulia.clear_output(true)\n",
    "            current_batch_no = current_batch_no+1;\n",
    "            print(\"\\n  \" *string(current_batch_no)* \" . Total number of batches is = \" * string(total_batch_number))\n",
    "        end\n",
    "        push!(weights_for_epochs,deepcopy(w))\n",
    "    end\n",
    "    return weights_for_epochs\n",
    "end"
   ]
  },
  {
   "cell_type": "code",
   "execution_count": null,
   "metadata": {
    "colab": {},
    "colab_type": "code",
    "id": "Zh4n8J2rT19Q"
   },
   "outputs": [],
   "source": [
    "#Finding accuracy function for one batch\n",
    "function accurate(w,x,y_gold,model;numIter=1)\n",
    "    yprb, v = model(w,x,numIter)\n",
    "    y_prediction = to_onehot(yprb ; target_type = Array{Int8})\n",
    "    num_correct = 0;\n",
    "    num_total = length(y_gold);\n",
    "        for j = 1 : num_total\n",
    "      if y_gold[j] == 0\n",
    "        y_gold[j] =10\n",
    "        end\n",
    "        end\n",
    "    for i = 1 : num_total\n",
    "      num_correct += (y_prediction[y_gold[i],i]==1) ? 1.0 : 0.0\n",
    "    end\n",
    "    return num_correct/num_total\n",
    "end\n",
    "\n",
    "#Finding accuracy function for whole data\n",
    "function accurate(w,data,model;numIter=1)\n",
    "  current_batch_no = 0\n",
    "  sum_total = 0;\n",
    "  total= length(data)\n",
    "  for (x,y) in data\n",
    "    current_batch_no = current_batch_no+1;\n",
    "    sum_total += accurate(w,x,y,model;numIter=numIter);\n",
    "    Main.IJulia.clear_output(true);\n",
    "    print(\"\\n Current batch number is  \" *string(current_batch_no)* \"th with current total correct probability \" * string(sum_total/current_batch_no)* \". Total number of batches is = \" * string(total))\n",
    "  end\n",
    "  return sum_total/current_batch_no;\n",
    "end\n",
    "\n",
    "#Finding error function for whole data\n",
    "function error_in_data(w,data,model;numIter=1)\n",
    "  error_in_prediction = 1 - accurate(w,data,model;numIter=numIter)\n",
    "end\n"
   ]
  },
  {
   "cell_type": "code",
   "execution_count": null,
   "metadata": {
    "colab": {},
    "colab_type": "code",
    "id": "s7F4DRKUFetJ"
   },
   "outputs": [],
   "source": [
    "if (print(\"Train from scratch? \"); readline()[1]=='y')\n",
    "  w_init = initialize_W(use_reconstruction_loss);\n",
    "  trained_weights = train_full_capsnet(w_init,dtrn,complete_network;withReconstruct = use_reconstruction_loss,numIter=number_of_iteration,numberOfEpochs=number_of_epochs);\n",
    "  w_trained = deepcopy(w_init)\n",
    "else\n",
    "  w_trained_file_name = getFileName(\"w\",fromDrive = get_files_from_drive);\n",
    "  w_trained = Knet.load(w_trained_file_name,\"weight\");\n",
    "end"
   ]
  },
  {
   "cell_type": "code",
   "execution_count": null,
   "metadata": {
    "colab": {},
    "colab_type": "code",
    "id": "U-WxE9XE5vo-"
   },
   "outputs": [],
   "source": [
    "## This cell calculates error of trained W on enlarged MNist Data set\n",
    "err_tst_w = error_in_data(w_trained,dtst,complete_network, numIter=number_of_iteration)\n",
    "println(\"Total error on test data is \"*string(err_tst_w));"
   ]
  },
  {
   "cell_type": "code",
   "execution_count": 71,
   "metadata": {
    "colab": {
     "base_uri": "https://localhost:8080/",
     "height": 996
    },
    "colab_type": "code",
    "id": "Nz_vzngp52Qu",
    "outputId": "ef0572e7-d22c-4088-da69-6fa25af0fdb5"
   },
   "outputs": [
    {
     "name": "stdout",
     "output_type": "stream",
     "text": [
      "Show results from scratch?(For showing results from scratch you should train from scratch first!) stdin> n\n"
     ]
    },
    {
     "data": {
      "image/png": "[encoded data removed]",
      "text/plain": [
       "Figure(PyObject <Figure size 640x480 with 1 Axes>)"
      ]
     },
     "metadata": {
      "tags": []
     },
     "output_type": "display_data"
    },
    {
     "data": {
      "image/png": "[encoded data removed]",
      "text/plain": [
       "Figure(PyObject <Figure size 640x480 with 1 Axes>)"
      ]
     },
     "metadata": {
      "tags": []
     },
     "output_type": "display_data"
    },
    {
     "data": {
      "text/plain": [
       "2-element Array{Any,1}:\n",
       " [0.06150000000000044, 0.03870000000000118, 0.034300000000000774, 0.026900000000001256, 0.02360000000000073, 0.0240000000000008, 0.02420000000000111, 0.023900000000001143, 0.022600000000001064, 0.019800000000000373]\n",
       " [3.9389157819747926, 2.663874010145664, 2.4043396431207658, 1.8257644063234328, 1.475851137638092, 1.3943122240155936, 1.4564651837944984, 1.3977860484272242, 1.2142532961815595, 1.0529979894310235]                "
      ]
     },
     "execution_count": 71,
     "metadata": {
      "tags": []
     },
     "output_type": "execute_result"
    }
   ],
   "source": [
    "if (print(\"Show results from scratch?(For showing results from scratch you should train from scratch first!) \"); readline()[1]=='y')\n",
    "  tst_err,tst_loss = calculate_loss_and_error(trained_weights,dtst,complete_network;numIter=number_of_iteration)\n",
    "  #trn_err,trn_loss = calculate_loss_and_error(trained_weights,dtrn,complete_network;numIter=number_of_iteration)\n",
    "  all_results = show_results(tst_err,tst_loss);\n",
    "else\n",
    "  results_file_name = getFileName(\"results\",fromDrive = get_files_from_drive);\n",
    "  all_results = Knet.load(results_file_name,\"results\");\n",
    "  show_results(all_results); \n",
    "end"
   ]
  },
  {
   "cell_type": "code",
   "execution_count": 74,
   "metadata": {
    "colab": {
     "base_uri": "https://localhost:8080/",
     "height": 34
    },
    "colab_type": "code",
    "id": "tATu_4GpzU-a",
    "outputId": "ed9359b2-82c2-42f3-f1a0-176da34b6547"
   },
   "outputs": [
    {
     "data": {
      "text/plain": [
       "affnist_test_data_batched (generic function with 1 method)"
      ]
     },
     "execution_count": 74,
     "metadata": {
      "tags": []
     },
     "output_type": "execute_result"
    }
   ],
   "source": [
    "## Function for creating batched affnist test data in KnetArray32 format from mat file\n",
    "function affnist_test_data_batched()\n",
    "  file_loc = pwd()*\"/Datas/Affnist_test_mat_type/1.mat\";\n",
    "  test_datas_raw = matread(file_loc)\n",
    "  xtstraw = test_datas_raw[\"affNISTdata\"][\"image\"];\n",
    "  ytst = test_datas_raw[\"affNISTdata\"][\"label_int\"];\n",
    "  affine_xtst = reshape(xtstraw,(40,40,1,10000))\n",
    "  affine_xtst = convert(KnetArray{Float32},affine_xtst)\n",
    "  for i = 1 : length(ytst)\n",
    "    if ytst[i] == 0\n",
    "      ytst[i] = 10;\n",
    "    end\n",
    "  end\n",
    "  ytst = convert(Array{UInt8},reshape(ytst,(10000)))\n",
    "  dtst = minibatch_custom(affine_xtst, ytst);\n",
    "  return dtst\n",
    "end"
   ]
  },
  {
   "cell_type": "code",
   "execution_count": 75,
   "metadata": {
    "colab": {
     "base_uri": "https://localhost:8080/",
     "height": 302
    },
    "colab_type": "code",
    "id": "z-d1enMa5R87",
    "outputId": "40bd2446-907b-4c19-ed0b-8414a7e2d741"
   },
   "outputs": [
    {
     "data": {
      "image/png": "[encoded data removed]",
      "text/plain": [
       "Figure(PyObject <Figure size 640x480 with 1 Axes>)"
      ]
     },
     "metadata": {
      "tags": []
     },
     "output_type": "display_data"
    },
    {
     "data": {
      "text/plain": [
       "(-0.5, 399.5, 199.5, -0.5)"
      ]
     },
     "execution_count": 75,
     "metadata": {
      "tags": []
     },
     "output_type": "execute_result"
    }
   ],
   "source": [
    "## This cell is for clarifying \n",
    "dtst_affnist = affnist_test_data_batched()\n",
    "x,y = first(dtst_affnist)\n",
    "batch_visualization(x,40)"
   ]
  },
  {
   "cell_type": "code",
   "execution_count": 76,
   "metadata": {
    "colab": {
     "base_uri": "https://localhost:8080/",
     "height": 52
    },
    "colab_type": "code",
    "id": "g9tsvA5tK7IH",
    "outputId": "ddff6f9d-5cf7-4ecf-cb10-619ffbcbfb66"
   },
   "outputs": [
    {
     "name": "stdout",
     "output_type": "stream",
     "text": [
      "\n",
      " Current batch number is  200th with current total correct probability 0.7338000000000002. Total number of batches is = 200Total error on test data is 0.26619999999999977\n"
     ]
    }
   ],
   "source": [
    "## This cell calculates error on affnist dataset\n",
    "## Our model is trained on expanded MNist and never trained on Affnist data set\n",
    "\n",
    "err_tst_w = error_in_data(w_trained,dtst_affnist,complete_network, numIter=number_of_iteration)\n",
    "println(\"Total error on test data is \"*string(err_tst_w));"
   ]
  },
  {
   "cell_type": "code",
   "execution_count": null,
   "metadata": {},
   "outputs": [],
   "source": [
    "file_name = pwd()*\"/Datas/capsnet_trained_on_enlarged_mnist_tested_on_affnist_error.jld2\"\n",
    "error_on_affnist = Knet.load(file_name,\"error\")\n",
    "show_error_on_affnist(error_on_affnist)"
   ]
  }
 ],
 "metadata": {
  "accelerator": "GPU",
  "colab": {
   "collapsed_sections": [],
   "name": "capsnet_for_affnist.ipynb",
   "provenance": [],
   "toc_visible": true
  },
  "kernelspec": {
   "display_name": "Julia 1.3.1",
   "language": "julia",
   "name": "julia-1.3"
  },
  "language_info": {
   "file_extension": ".jl",
   "mimetype": "application/julia",
   "name": "julia",
   "version": "1.3.1"
  }
 },
 "nbformat": 4,
 "nbformat_minor": 4
}
