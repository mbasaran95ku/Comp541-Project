{
  "nbformat": 4,
  "nbformat_minor": 0,
  "metadata": {
    "accelerator": "GPU",
    "colab": {
      "name": "capsnet_deneme_iterator_added.ipynb",
      "provenance": [],
      "collapsed_sections": [],
      "toc_visible": true
    },
    "kernelspec": {
      "display_name": "Julia 1.3.1",
      "language": "julia",
      "name": "julia-1.3"
    },
    "language_info": {
      "file_extension": ".jl",
      "mimetype": "application/julia",
      "name": "julia",
      "version": "1.3.1"
    }
  },
  "cells": [
    {
      "cell_type": "markdown",
      "metadata": {
        "colab_type": "text",
        "id": "Q7S9cpFJqfXy"
      },
      "source": [
        "## Julia on Colaboratory ##\n",
        "\n",
        "[Colaboratory](https://colab.research.google.com) does not provide native support for the [Julia programming language](https://julialang.org). However, since Colaboratory gives you root access to the machine that runs your notebook (the *“runtime”* in Colaboratory terminology), we can install Julia support by uploading a specially crafted Julia notebook  – *this* notebook. We then install Julia and [IJulia](https://github.com/JuliaLang/IJulia.jl) ([Jupyter](https://jupyter.org)/Colaboratory notebook support) and reload the notebook so that Colaboratory detects and initiates what we installed.\n",
        "\n",
        "In brief:\n",
        "\n",
        "1. **Run the cell below**\n",
        "2. **Reload the page**\n",
        "3. **Edit the notebook name and start hacking Julia code below**\n",
        "\n",
        "**If your runtime resets**, either manually or if left idle for some time, **repeat steps 1 and 2**.\n",
        "\n",
        "### Acknowledgements ###\n",
        "\n",
        "This hack by Pontus Stenetorp is an adaptation of [James Bradbury’s original Colaboratory Julia hack](https://discourse.julialang.org/t/julia-on-google-colab-free-gpu-accelerated-shareable-notebooks/15319/27), that broke some time in September 2019 as Colaboratory increased their level of notebook runtime isolation. There also appears to be CUDA compilation support installed by default for each notebook runtime type in October 2019, which shaves off a good 15 minutes or so from the original hack’s installation time."
      ]
    },
    {
      "cell_type": "code",
      "metadata": {
        "colab_type": "code",
        "id": "BrHjOFFsxf7W",
        "outputId": "6ac98004-929e-4140-9e31-7e9ff5e395ba",
        "colab": {
          "base_uri": "https://localhost:8080/",
          "height": 1000
        }
      },
      "source": [
        "# Installation cell\n",
        "%%shell\n",
        "if ! command -v julia 2>&1 > /dev/null\n",
        "then\n",
        "    wget 'https://julialang-s3.julialang.org/bin/linux/x64/1.3/julia-1.3.1-linux-x86_64.tar.gz' \\\n",
        "        -O /tmp/julia.tar.gz\n",
        "    tar -x -f /tmp/julia.tar.gz -C /usr/local --strip-components 1\n",
        "    rm /tmp/julia.tar.gz\n",
        "fi\n",
        "julia -e 'using Pkg; pkg\"add Plots; add PyPlot; add IJulia; add Knet;\"'\n",
        "julia -e 'using Pkg; pkg\"build Knet;\"'"
      ],
      "execution_count": 0,
      "outputs": [
        {
          "output_type": "stream",
          "text": [
            "--2020-03-19 19:18:05--  https://julialang-s3.julialang.org/bin/linux/x64/1.3/julia-1.3.1-linux-x86_64.tar.gz\n",
            "Resolving julialang-s3.julialang.org (julialang-s3.julialang.org)... 151.101.2.49, 151.101.66.49, 151.101.130.49, ...\n",
            "Connecting to julialang-s3.julialang.org (julialang-s3.julialang.org)|151.101.2.49|:443... connected.\n",
            "HTTP request sent, awaiting response... 302 gce internal redirect trigger\n",
            "Location: https://storage.googleapis.com/julialang2/bin/linux/x64/1.3/julia-1.3.1-linux-x86_64.tar.gz [following]\n",
            "--2020-03-19 19:18:05--  https://storage.googleapis.com/julialang2/bin/linux/x64/1.3/julia-1.3.1-linux-x86_64.tar.gz\n",
            "Resolving storage.googleapis.com (storage.googleapis.com)... 172.217.3.48, 2607:f8b0:4026:801::2010\n",
            "Connecting to storage.googleapis.com (storage.googleapis.com)|172.217.3.48|:443... connected.\n",
            "HTTP request sent, awaiting response... 200 OK\n",
            "Length: 95929584 (91M) [application/x-gzip]\n",
            "Saving to: ‘/tmp/julia.tar.gz’\n",
            "\n",
            "/tmp/julia.tar.gz   100%[===================>]  91.49M  46.2MB/s    in 2.0s    \n",
            "\n",
            "2020-03-19 19:18:07 (46.2 MB/s) - ‘/tmp/julia.tar.gz’ saved [95929584/95929584]\n",
            "\n",
            "   Cloning default registries into `~/.julia`\n",
            "   Cloning registry from \"https://github.com/JuliaRegistries/General.git\"\n",
            "\u001b[2K\u001b[?25h     Added registry `General` to `~/.julia/registries/General`\n",
            " Resolving package versions...\n",
            " Installed Bzip2_jll ────────── v1.0.6+1\n",
            " Installed NaNMath ──────────── v0.3.3\n",
            " Installed libvorbis_jll ────── v1.3.6+2\n",
            " Installed LibVPX_jll ───────── v1.8.1+1\n",
            " Installed PlotUtils ────────── v0.6.4\n",
            " Installed StatsBase ────────── v0.32.2\n",
            " Installed IterTools ────────── v1.3.0\n",
            " Installed Plots ────────────── v0.29.8\n",
            " Installed DataAPI ──────────── v1.1.0\n",
            " Installed Showoff ──────────── v0.3.1\n",
            " Installed x265_jll ─────────── v3.0.0+0\n",
            " Installed FriBidi_jll ──────── v1.0.5+2\n",
            " Installed PlotThemes ───────── v1.0.1\n",
            " Installed FFMPEG ───────────── v0.3.0\n",
            " Installed Measures ─────────── v0.3.1\n",
            " Installed GeometryTypes ────── v0.7.6\n",
            " Installed RecipesBase ──────── v0.8.0\n",
            " Installed StaticArrays ─────── v0.12.1\n",
            " Installed OpenSSL_jll ──────── v1.1.1+1\n",
            " Installed Requires ─────────── v1.0.1\n",
            " Installed DataStructures ───── v0.17.10\n",
            " Installed FreeType2_jll ────── v2.10.1+1\n",
            " Installed Zlib_jll ─────────── v1.2.11+8\n",
            " Installed Parsers ──────────── v0.3.12\n",
            " Installed SortingAlgorithms ── v0.3.1\n",
            " Installed JSON ─────────────── v0.21.0\n",
            " Installed x264_jll ─────────── v2019.5.25+1\n",
            " Installed ColorTypes ───────── v0.10.0\n",
            " Installed Colors ───────────── v0.12.0\n",
            " Installed FixedPointNumbers ── v0.8.0\n",
            " Installed OrderedCollections ─ v1.1.0\n",
            " Installed Reexport ─────────── v0.2.0\n",
            " Installed FFMPEG_jll ───────── v4.1.0+2\n",
            " Installed libfdk_aac_jll ───── v0.1.6+1\n",
            " Installed libass_jll ───────── v0.14.0+0\n",
            " Installed GR ───────────────── v0.48.0\n",
            " Installed Ogg_jll ──────────── v1.3.3+0\n",
            " Installed Missings ─────────── v0.4.3\n",
            " Installed Contour ──────────── v0.5.2\n",
            " Installed LAME_jll ─────────── v3.100.0+0\n",
            " Installed Opus_jll ─────────── v1.3.1+0\n",
            "  Updating `~/.julia/environments/v1.3/Project.toml`\n",
            "  [91a5bcdd] + Plots v0.29.8\n",
            "  Updating `~/.julia/environments/v1.3/Manifest.toml`\n",
            "  [6e34b625] + Bzip2_jll v1.0.6+1\n",
            "  [3da002f7] + ColorTypes v0.10.0\n",
            "  [5ae59095] + Colors v0.12.0\n",
            "  [d38c429a] + Contour v0.5.2\n",
            "  [9a962f9c] + DataAPI v1.1.0\n",
            "  [864edb3b] + DataStructures v0.17.10\n",
            "  [c87230d0] + FFMPEG v0.3.0\n",
            "  [b22a6f82] + FFMPEG_jll v4.1.0+2\n",
            "  [53c48c17] + FixedPointNumbers v0.8.0\n",
            "  [d7e528f0] + FreeType2_jll v2.10.1+1\n",
            "  [559328eb] + FriBidi_jll v1.0.5+2\n",
            "  [28b8d3ca] + GR v0.48.0\n",
            "  [4d00f742] + GeometryTypes v0.7.6\n",
            "  [c8e1da08] + IterTools v1.3.0\n",
            "  [682c06a0] + JSON v0.21.0\n",
            "  [c1c5ebd0] + LAME_jll v3.100.0+0\n",
            "  [dd192d2f] + LibVPX_jll v1.8.1+1\n",
            "  [442fdcdd] + Measures v0.3.1\n",
            "  [e1d29d7a] + Missings v0.4.3\n",
            "  [77ba4419] + NaNMath v0.3.3\n",
            "  [e7412a2a] + Ogg_jll v1.3.3+0\n",
            "  [458c3c95] + OpenSSL_jll v1.1.1+1\n",
            "  [91d4177d] + Opus_jll v1.3.1+0\n",
            "  [bac558e1] + OrderedCollections v1.1.0\n",
            "  [69de0a69] + Parsers v0.3.12\n",
            "  [ccf2f8ad] + PlotThemes v1.0.1\n",
            "  [995b91a9] + PlotUtils v0.6.4\n",
            "  [91a5bcdd] + Plots v0.29.8\n",
            "  [3cdcf5f2] + RecipesBase v0.8.0\n",
            "  [189a3867] + Reexport v0.2.0\n",
            "  [ae029012] + Requires v1.0.1\n",
            "  [992d4aef] + Showoff v0.3.1\n",
            "  [a2af1166] + SortingAlgorithms v0.3.1\n",
            "  [90137ffa] + StaticArrays v0.12.1\n",
            "  [2913bbd2] + StatsBase v0.32.2\n",
            "  [83775a58] + Zlib_jll v1.2.11+8\n",
            "  [0ac62f75] + libass_jll v0.14.0+0\n",
            "  [f638f0a6] + libfdk_aac_jll v0.1.6+1\n",
            "  [f27f6e37] + libvorbis_jll v1.3.6+2\n",
            "  [1270edf5] + x264_jll v2019.5.25+1\n",
            "  [dfaa095f] + x265_jll v3.0.0+0\n",
            "  [2a0f44e3] + Base64 \n",
            "  [ade2ca70] + Dates \n",
            "  [8bb1440f] + DelimitedFiles \n",
            "  [8ba89e20] + Distributed \n",
            "  [b77e0a4c] + InteractiveUtils \n",
            "  [76f85450] + LibGit2 \n",
            "  [8f399da3] + Libdl \n",
            "  [37e2e46d] + LinearAlgebra \n",
            "  [56ddb016] + Logging \n",
            "  [d6f4376e] + Markdown \n",
            "  [a63ad114] + Mmap \n",
            "  [44cfe95a] + Pkg \n",
            "  [de0858da] + Printf \n",
            "  [3fa0cd96] + REPL \n",
            "  [9a3f8284] + Random \n",
            "  [ea8e919c] + SHA \n",
            "  [9e88b42a] + Serialization \n",
            "  [6462fe0b] + Sockets \n",
            "  [2f01184e] + SparseArrays \n",
            "  [10745b16] + Statistics \n",
            "  [8dfed614] + Test \n",
            "  [cf7118a7] + UUIDs \n",
            "  [4ec0a83e] + Unicode \n",
            "  Building GR ───→ `~/.julia/packages/GR/yMV3y/deps/build.log`\n",
            "  Building Plots → `~/.julia/packages/Plots/vTdnV/deps/build.log`\n",
            " Resolving package versions...\n",
            " Installed MacroTools ───── v0.5.4\n",
            " Installed VersionParsing ─ v1.2.0\n",
            " Installed LaTeXStrings ─── v1.1.0\n",
            " Installed Conda ────────── v1.4.1\n",
            " Installed PyPlot ───────── v2.8.2\n",
            " Installed PyCall ───────── v1.91.4\n",
            "  Updating `~/.julia/environments/v1.3/Project.toml`\n",
            "  [d330b81b] + PyPlot v2.8.2\n",
            "  Updating `~/.julia/environments/v1.3/Manifest.toml`\n",
            "  [8f4d0f93] + Conda v1.4.1\n",
            "  [b964fa9f] + LaTeXStrings v1.1.0\n",
            "  [1914dd2f] + MacroTools v0.5.4\n",
            "  [438e738f] + PyCall v1.91.4\n",
            "  [d330b81b] + PyPlot v2.8.2\n",
            "  [81def892] + VersionParsing v1.2.0\n",
            "  Building Conda ─→ `~/.julia/packages/Conda/3rPhK/deps/build.log`\n",
            "  Building PyCall → `~/.julia/packages/PyCall/zqDXB/deps/build.log`\n",
            " Resolving package versions...\n",
            " Installed BinaryProvider ── v0.5.8\n",
            " Installed ZeroMQ_jll ────── v4.3.2+1\n",
            " Installed ZMQ ───────────── v1.2.0\n",
            " Installed MbedTLS ───────── v0.7.0\n",
            " Installed IJulia ────────── v1.21.1\n",
            " Installed SoftGlobalScope ─ v1.0.10\n",
            "  Updating `~/.julia/environments/v1.3/Project.toml`\n",
            "  [7073ff75] + IJulia v1.21.1\n",
            "  Updating `~/.julia/environments/v1.3/Manifest.toml`\n",
            "  [b99e7846] + BinaryProvider v0.5.8\n",
            "  [7073ff75] + IJulia v1.21.1\n",
            "  [739be429] + MbedTLS v0.7.0\n",
            "  [b85f4697] + SoftGlobalScope v1.0.10\n",
            "  [c2297ded] + ZMQ v1.2.0\n",
            "  [8f1865be] + ZeroMQ_jll v4.3.2+1\n",
            "  [7b1f6079] + FileWatching \n",
            "  Building MbedTLS → `~/.julia/packages/MbedTLS/a1JFn/deps/build.log`\n",
            "  Building IJulia ─→ `~/.julia/packages/IJulia/yLI42/deps/build.log`\n",
            " Resolving package versions...\n",
            " Installed CompilerSupportLibraries_jll ─ v0.3.0+0\n",
            " Installed NNlib ──────────────────────── v0.6.6\n",
            " Installed TimerOutputs ───────────────── v0.5.3\n",
            " Installed CodecZlib ──────────────────── v0.7.0\n",
            " Installed GPUArrays ──────────────────── v2.0.1\n",
            " Installed AutoGrad ───────────────────── v1.2.1\n",
            " Installed CuArrays ───────────────────── v1.7.3\n",
            " Installed SpecialFunctions ───────────── v0.10.0\n",
            " Installed CUDAapi ────────────────────── v3.1.0\n",
            " Installed CEnum ──────────────────────── v0.2.0\n",
            " Installed Adapt ──────────────────────── v1.0.1\n",
            " Installed LLVM ───────────────────────── v1.3.4\n",
            " Installed AbstractFFTs ───────────────── v0.5.0\n",
            " Installed JLD2 ───────────────────────── v0.1.3\n",
            " Installed TranscodingStreams ─────────── v0.9.5\n",
            " Installed Knet ───────────────────────── v1.3.4\n",
            " Installed OpenSpecFun_jll ────────────── v0.5.3+3\n",
            " Installed CUDAnative ─────────────────── v2.10.2\n",
            " Installed CUDAdrv ────────────────────── v6.0.0\n",
            " Installed FileIO ─────────────────────── v1.2.3\n",
            "  Updating `~/.julia/environments/v1.3/Project.toml`\n",
            "  [1902f260] + Knet v1.3.4\n",
            "  Updating `~/.julia/environments/v1.3/Manifest.toml`\n",
            "  [621f4979] + AbstractFFTs v0.5.0\n",
            "  [79e6a3ab] + Adapt v1.0.1\n",
            "  [6710c13c] + AutoGrad v1.2.1\n",
            "  [fa961155] + CEnum v0.2.0\n",
            "  [3895d2a7] + CUDAapi v3.1.0\n",
            "  [c5f51814] + CUDAdrv v6.0.0\n",
            "  [be33ccc6] + CUDAnative v2.10.2\n",
            "  [944b1d66] + CodecZlib v0.7.0\n",
            "  [e66e0078] + CompilerSupportLibraries_jll v0.3.0+0\n",
            "  [3a865a2d] + CuArrays v1.7.3\n",
            "  [5789e2e9] + FileIO v1.2.3\n",
            "  [0c68f7d7] + GPUArrays v2.0.1\n",
            "  [033835bb] + JLD2 v0.1.3\n",
            "  [1902f260] + Knet v1.3.4\n",
            "  [929cbde3] + LLVM v1.3.4\n",
            "  [872c559c] + NNlib v0.6.6\n",
            "  [efe28fd5] + OpenSpecFun_jll v0.5.3+3\n",
            "  [276daf66] + SpecialFunctions v0.10.0\n",
            "  [a759f4b9] + TimerOutputs v0.5.3\n",
            "  [3bb67fe8] + TranscodingStreams v0.9.5\n",
            "  Building NNlib → `~/.julia/packages/NNlib/FAI3o/deps/build.log`\n",
            "  Building Knet ─→ `~/.julia/packages/Knet/vxHRi/deps/build.log`\n",
            "  Building NNlib → `~/.julia/packages/NNlib/FAI3o/deps/build.log`\n",
            "  Building Knet ─→ `~/.julia/packages/Knet/vxHRi/deps/build.log`\n"
          ],
          "name": "stdout"
        },
        {
          "output_type": "execute_result",
          "data": {
            "text/plain": [
              ""
            ]
          },
          "metadata": {
            "tags": []
          },
          "execution_count": 1
        }
      ]
    },
    {
      "cell_type": "code",
      "metadata": {
        "colab_type": "code",
        "id": "1VdFDb9szt_o",
        "outputId": "408637f7-ef28-4d00-8791-25377471eb41",
        "colab": {
          "base_uri": "https://localhost:8080/",
          "height": 102
        }
      },
      "source": [
        "using Knet\n",
        "# Test if Knet is using gpu\n",
        "Knet.gpu()"
      ],
      "execution_count": 1,
      "outputs": [
        {
          "output_type": "stream",
          "text": [
            "┌ Info: Precompiling Knet [1902f260-5fb4-5aff-8c31-6271790ab950]\n",
            "└ @ Base loading.jl:1273\n",
            "┌ Warning: You are using CUDNN 7.6.5 for CUDA 10.1.0 with CUDA toolkit 10.0.130; these might be incompatible.\n",
            "└ @ CuArrays /root/.julia/packages/CuArrays/A6GUx/src/CuArrays.jl:128\n"
          ],
          "name": "stderr"
        },
        {
          "output_type": "execute_result",
          "data": {
            "text/plain": [
              "0"
            ]
          },
          "metadata": {
            "tags": []
          },
          "execution_count": 1
        }
      ]
    },
    {
      "cell_type": "code",
      "metadata": {
        "colab_type": "code",
        "id": "keEn3xOtNOD8",
        "colab": {
          "base_uri": "https://localhost:8080/",
          "height": 170
        },
        "outputId": "4697f06f-633f-4c48-9d40-0504927e2097"
      },
      "source": [
        "# Setup display width, load packages, import symbols\n",
        "ENV[\"COLUMNS\"]=72\n",
        "using Pkg; for p in\n",
        " (\"Knet\",\"IterTools\",\"Plots\"); haskey(Pkg.installed(),p) || Pkg.add(p); end\n",
        "\n",
        "using Base.Iterators: flatten\n",
        "using IterTools: ncycle, takenth\n",
        "using Statistics: mean\n",
        "using Knet: Knet, conv4, pool, mat, KnetArray, nll, zeroone, progress, sgd, param, param0, dropout, relu, Data, gpu\n",
        "import Pkg\n",
        "IJulia.set_max_stdio(1<<25)"
      ],
      "execution_count": 2,
      "outputs": [
        {
          "output_type": "stream",
          "text": [
            "\u001b[32m\u001b[1m  Updating\u001b[22m\u001b[39m registry at `~/.julia/registries/General`\n",
            "\u001b[32m\u001b[1m  Updating\u001b[22m\u001b[39m git-repo `https://github.com/JuliaRegistries/General.git`\n",
            "\u001b[2K\u001b[?25h\u001b[32m\u001b[1m Resolving\u001b[22m\u001b[39m package versions...\n",
            "\u001b[32m\u001b[1m  Updating\u001b[22m\u001b[39m `~/.julia/environments/v1.3/Project.toml`\n",
            " \u001b[90m [c8e1da08]\u001b[39m\u001b[92m + IterTools v1.3.0\u001b[39m\n",
            "\u001b[32m\u001b[1m  Updating\u001b[22m\u001b[39m `~/.julia/environments/v1.3/Manifest.toml`\n",
            "\u001b[90m [no changes]\u001b[39m\n"
          ],
          "name": "stdout"
        },
        {
          "output_type": "stream",
          "text": [
            "┌ Info: Precompiling IterTools [c8e1da08-722c-5040-9ed9-7db0dc04731e]\n",
            "└ @ Base loading.jl:1273\n"
          ],
          "name": "stderr"
        }
      ]
    },
    {
      "cell_type": "code",
      "metadata": {
        "colab_type": "code",
        "id": "RhF0_zyoNQZ1",
        "colab": {}
      },
      "source": [
        "# Load data (see mnist.ipynb)\n",
        "include(Knet.dir(\"data\",\"mnist.jl\"))  # Load data\n",
        "dtrn,dtst = mnistdata(batchsize=50);   "
      ],
      "execution_count": 0,
      "outputs": []
    },
    {
      "cell_type": "code",
      "metadata": {
        "colab_type": "code",
        "id": "owIRQMo2NQmr",
        "outputId": "4a49c023-d9b7-4540-aae8-def3f37ca0bc",
        "colab": {
          "base_uri": "https://localhost:8080/",
          "height": 34
        }
      },
      "source": [
        "# For running experiments\n",
        "function trainresultsadam(model; o...)\n",
        "        r = ((1)  for x in takenth(progress(adam(model,ncycle(dtrn,10))),length(dtrn)))\n",
        "        r = reshape(collect(Float32,flatten(r)),(1,:))\n",
        "        Knet.gc() # To save gpu memory\n",
        "end"
      ],
      "execution_count": 204,
      "outputs": [
        {
          "output_type": "execute_result",
          "data": {
            "text/plain": [
              "trainresultsadam (generic function with 2 methods)"
            ]
          },
          "metadata": {
            "tags": []
          },
          "execution_count": 204
        }
      ]
    },
    {
      "cell_type": "code",
      "metadata": {
        "id": "IpdrbSkxN6XY",
        "colab_type": "code",
        "outputId": "128e2ee9-1f0d-4dc7-8ab0-c87eed07fd36",
        "colab": {
          "base_uri": "https://localhost:8080/",
          "height": 34
        }
      },
      "source": [
        "# Squash function definition\n",
        "function squash(s; axis=2, eps=1e-7)\n",
        "  norm2 = sum(abs2.(s),dims=axis);\n",
        "  scaled = s./sqrt.(norm2);\n",
        "  result = (norm2./(norm2.+1)).*scaled;\n",
        "end"
      ],
      "execution_count": 205,
      "outputs": [
        {
          "output_type": "execute_result",
          "data": {
            "text/plain": [
              "squash (generic function with 1 method)"
            ]
          },
          "metadata": {
            "tags": []
          },
          "execution_count": 205
        }
      ]
    },
    {
      "cell_type": "code",
      "metadata": {
        "colab_type": "code",
        "id": "EbOFBdBiNZBV",
        "outputId": "30f8f1d8-c598-40f9-bd86-98d9b3c22f0d",
        "colab": {
          "base_uri": "https://localhost:8080/",
          "height": 34
        }
      },
      "source": [
        "# Convolutional Layer Definition\n",
        "struct Conv; w; b; f; p; s; end\n",
        "(c::Conv)(x) = c.f.((conv4(c.w, dropout(x,c.p),padding=0,stride=c.s) .+ c.b))\n",
        "Conv(w1::Int,w2::Int,cx::Int,cy::Int,f=relu;pdrop=0,s=1) = Conv(param(w1,w2,cx,cy), param0(1,1,cy,1), f, pdrop,s)"
      ],
      "execution_count": 206,
      "outputs": [
        {
          "output_type": "execute_result",
          "data": {
            "text/plain": [
              "Conv"
            ]
          },
          "metadata": {
            "tags": []
          },
          "execution_count": 206
        }
      ]
    },
    {
      "cell_type": "code",
      "metadata": {
        "id": "ic_S5N-oN6Xl",
        "colab_type": "code",
        "outputId": "9d84e7e6-84bc-45b0-cf7b-acd9e2237d0b",
        "colab": {
          "base_uri": "https://localhost:8080/",
          "height": 34
        }
      },
      "source": [
        "# Capsule Network Definition\n",
        "struct Capsule; w;w1;w2;cx;bs;end\n",
        "(caps::Capsule)(x) = (\n",
        "x = reshape(x,(caps.w1,caps.w2,size(caps.w,2),caps.cx,caps.bs));\n",
        "x = permutedims(x,(1,2,4,3,5));\n",
        "x = reshape(x,(size(caps.w,1),size(caps.w,2),1,1,caps.bs));\n",
        "\n",
        "a = convert(KnetArray{Float32},ones(size(caps.w,1),size(caps.w,2),size(caps.w,3),size(caps.w,4),caps.bs));\n",
        "\n",
        "w_expand = a.*caps.w;\n",
        "\n",
        "u_hat = sum(w_expand.*x,dims=2);\n",
        "u_hat = reshape(u_hat,(1152,10,16,caps.bs));\n",
        "\n",
        "b = convert(KnetArray{Float32},zeros(size(caps.w,1),size(caps.w,3),1,caps.bs));\n",
        "\n",
        "for i = 1 : 3\n",
        "    c = softmax(b,dims=2);\n",
        "    s = permutedims(reshape(sum((c.*u_hat),dims=1),16,10,caps.bs),(2,1,3));\n",
        "    v = squash(s);\n",
        "    v = reshape(v,(1,10,16,caps.bs));\n",
        "    A = u_hat.*v;\n",
        "    aggrement = sum(A,dims = 3);\n",
        "    b = b.+aggrement;\n",
        "end;\n",
        "\n",
        "v= reshape(v,(10,16,caps.bs));\n",
        "probabilities = sum(v,dims=2);\n",
        "\n",
        "result = reshape(probabilities,10,caps.bs);\n",
        ")\n",
        "\n",
        "Capsule(w1::Int,w2::Int,cx::Int,lenx::Int,cy::Int,leny::Int,bs::Int) = Capsule(param(w1*w2*cx,lenx,cy,leny),w1,w2,cx,bs)"
      ],
      "execution_count": 207,
      "outputs": [
        {
          "output_type": "execute_result",
          "data": {
            "text/plain": [
              "Capsule"
            ]
          },
          "metadata": {
            "tags": []
          },
          "execution_count": 207
        }
      ]
    },
    {
      "cell_type": "code",
      "metadata": {
        "colab_type": "code",
        "id": "P3yD4xw3NZFk",
        "outputId": "1c69cb03-2a90-495a-c1de-aed93d95b3e5",
        "colab": {
          "base_uri": "https://localhost:8080/",
          "height": 34
        }
      },
      "source": [
        "# Dense Layers Definition\n",
        "struct Dense; w; b; f; p; end\n",
        "(d::Dense)(x) = d.f.(d.w * mat(dropout(x,d.p)) .+ d.b) # mat reshapes 4-D tensor to 2-D matrix so we can use matmul\n",
        "Dense(i::Int,o::Int,f=relu;pdrop=0) = Dense(param(o,i), param0(o), f, pdrop)"
      ],
      "execution_count": 208,
      "outputs": [
        {
          "output_type": "execute_result",
          "data": {
            "text/plain": [
              "Dense"
            ]
          },
          "metadata": {
            "tags": []
          },
          "execution_count": 208
        }
      ]
    },
    {
      "cell_type": "code",
      "metadata": {
        "colab_type": "code",
        "id": "JpakE6fxyToX",
        "colab": {}
      },
      "source": [
        "# Chain of layers definition\n",
        "struct Chain\n",
        "    layers\n",
        "    Chain(layers...) = new(layers)\n",
        "end\n",
        "(c::Chain)(x) = (for l in c.layers; x = l(x); end; x)\n",
        "(c::Chain)(x,y) = nll(c(x),y)\n",
        "(c::Chain)(d::Data) = mean(c(x,y) for (x,y) in d)"
      ],
      "execution_count": 0,
      "outputs": []
    },
    {
      "cell_type": "code",
      "metadata": {
        "id": "tYvnwBN0N6Xy",
        "colab_type": "code",
        "outputId": "4dc9bbad-a1fa-4d40-dbe6-22ae73bd67bb",
        "colab": {
          "base_uri": "https://localhost:8080/",
          "height": 34
        }
      },
      "source": [
        "(x,y) = first(dtrn);\n",
        "summary(x)"
      ],
      "execution_count": 210,
      "outputs": [
        {
          "output_type": "execute_result",
          "data": {
            "text/plain": [
              "\"28×28×1×50 KnetArray{Float32,4}\""
            ]
          },
          "metadata": {
            "tags": []
          },
          "execution_count": 210
        }
      ]
    },
    {
      "cell_type": "code",
      "metadata": {
        "id": "3Puf-g-kN6X2",
        "colab_type": "code",
        "outputId": "db9954a2-7ee4-4423-ea44-2251d285406f",
        "colab": {
          "base_uri": "https://localhost:8080/",
          "height": 34
        }
      },
      "source": [
        "#Defining baseline layer\n",
        "baseline_capsnet =   Chain(Conv(9,9,1,256,), \n",
        "                 Conv(9,9,256,256,s = 2),\n",
        "                Capsule(6,6,32,8,10,16,50),)\n",
        "println(summary.(l.w for l in baseline_capsnet.layers));\n"
      ],
      "execution_count": 211,
      "outputs": [
        {
          "output_type": "stream",
          "text": [
            "[\"9×9×1×256 Param{KnetArray{Float32,4}}\", \"9×9×256×256 Param{KnetArray{Float32,4}}\", \"1152×8×10×16 Param{KnetArray{Float32,4}}\"]\n"
          ],
          "name": "stdout"
        }
      ]
    },
    {
      "cell_type": "code",
      "metadata": {
        "id": "drcWvbqxVjU3",
        "colab_type": "code",
        "colab": {
          "base_uri": "https://localhost:8080/",
          "height": 54
        },
        "outputId": "0f5031ab-40ae-4207-8f7f-dd657b447f62"
      },
      "source": [
        "baseline_trained_capsnet = Knet.load(\"capsnet_trained.jld2\",\"baseline_capsnet_trnd\")"
      ],
      "execution_count": 212,
      "outputs": [
        {
          "output_type": "execute_result",
          "data": {
            "text/plain": [
              "Chain((Conv(P(KnetArray{Float32,4}(9,9,1,256)), P(KnetArray{Float32,4}(1,1,256,1)), NNlib.relu, 0, 1), Conv(P(KnetArray{Float32,4}(9,9,256,256)), P(KnetArray{Float32,4}(1,1,256,1)), NNlib.relu, 0, 2), Capsule(P(KnetArray{Float32,4}(1152,8,10,16)), 6, 6, 32, 50)))"
            ]
          },
          "metadata": {
            "tags": []
          },
          "execution_count": 212
        }
      ]
    },
    {
      "cell_type": "code",
      "metadata": {
        "id": "zRPmzb6WN6X7",
        "colab_type": "code",
        "outputId": "825cf8b2-c61c-41f7-8b03-66c5fc3bd4cf",
        "colab": {
          "base_uri": "https://localhost:8080/",
          "height": 204
        }
      },
      "source": [
        "baseline_trained_capsnet(x)\n"
      ],
      "execution_count": 213,
      "outputs": [
        {
          "output_type": "execute_result",
          "data": {
            "text/plain": [
              "10×50 KnetArray{Float32,2}:\n",
              " -3.53138  -3.79172  -3.53819  …  -3.59066  -2.80799  -3.49524\n",
              " -3.73842  -3.7127   -3.75571     -3.65101  -3.33078  -3.84533\n",
              " -3.11653  -3.79185  -3.59811     -3.7248   -3.1626    3.94741\n",
              " -3.70236  -3.76109   3.92701     -3.78277  -3.40408  -3.64598\n",
              "  3.60998  -3.6654   -3.70642      3.92579  -2.75019  -3.44083\n",
              " -3.59037  -3.79953  -3.60963  …  -3.5869   -3.7349   -3.52778\n",
              " -3.71159  -3.72637  -3.65872     -3.85041  -3.36216  -3.82185\n",
              " -3.41429  -3.82285  -3.64325     -3.64111  -3.62061  -3.73497\n",
              " -3.73651  -3.6986   -3.49845     -3.62178   2.74298  -3.7451 \n",
              " -3.64936   3.97108  -3.77033     -3.60173  -3.56855  -3.75376"
            ]
          },
          "metadata": {
            "tags": []
          },
          "execution_count": 213
        }
      ]
    },
    {
      "cell_type": "code",
      "metadata": {
        "id": "XN6kUaKPuVR_",
        "colab_type": "code",
        "outputId": "d5383cf9-4ae6-4e00-ffab-8d64d8c39459",
        "colab": {
          "base_uri": "https://localhost:8080/",
          "height": 34
        }
      },
      "source": [
        "zeroone(baseline_trained_capsnet,dtst)"
      ],
      "execution_count": 217,
      "outputs": [
        {
          "output_type": "execute_result",
          "data": {
            "text/plain": [
              "0.007600000000000051"
            ]
          },
          "metadata": {
            "tags": []
          },
          "execution_count": 217
        }
      ]
    },
    {
      "cell_type": "code",
      "metadata": {
        "id": "Sp98en1-bjPN",
        "colab_type": "code",
        "outputId": "0a7f80fe-f85e-4b81-b362-84cab7c724b7",
        "colab": {
          "base_uri": "https://localhost:8080/",
          "height": 34
        }
      },
      "source": [
        "zeroone(baseline_trained_capsnet,dtrn)"
      ],
      "execution_count": 218,
      "outputs": [
        {
          "output_type": "execute_result",
          "data": {
            "text/plain": [
              "0.0020000000000000018"
            ]
          },
          "metadata": {
            "tags": []
          },
          "execution_count": 218
        }
      ]
    },
    {
      "cell_type": "code",
      "metadata": {
        "id": "VsEtbQ5OV5TC",
        "colab_type": "code",
        "colab": {}
      },
      "source": [
        "# Training can be done with uncommenting the function below\n",
        "# trainresultsadam(baseline_capsnet);"
      ],
      "execution_count": 0,
      "outputs": []
    },
    {
      "cell_type": "code",
      "metadata": {
        "id": "2aRv9OeYqOUj",
        "colab_type": "code",
        "colab": {
          "base_uri": "https://localhost:8080/",
          "height": 336
        },
        "outputId": "709b2261-5845-46da-aaa4-3838a28ca5f4"
      },
      "source": [
        "#After training, trained network can be saved\n",
        "file = \"capsnet_trained.jld2\"\n",
        "Knet.save(file,\"baseline_capsnet_trnd\",baseline_capsnet)"
      ],
      "execution_count": 221,
      "outputs": [
        {
          "output_type": "stream",
          "text": [
            "Error encountered while saving \"/content/capsnet_trained.jld2\".\n",
            "\n",
            "Fatal error:\n"
          ],
          "name": "stderr"
        },
        {
          "output_type": "error",
          "ename": "InterruptException",
          "evalue": "ignored",
          "traceback": [
            "InterruptException:",
            "",
            "Stacktrace:",
            " [1] handle_error(::InterruptException, ::FileIO.File{FileIO.DataFormat{:JLD2}}) at /root/.julia/packages/FileIO/Y54iO/src/error_handling.jl:82",
            " [2] handle_exceptions(::Array{Any,1}, ::String) at /root/.julia/packages/FileIO/Y54iO/src/error_handling.jl:77",
            " [3] #save#30(::Base.Iterators.Pairs{Union{},Union{},Tuple{},NamedTuple{(),Tuple{}}}, ::typeof(FileIO.save), ::FileIO.Formatted, ::Any, ::Vararg{Any,N} where N) at /root/.julia/packages/FileIO/Y54iO/src/loadsave.jl:213",
            " [4] save at /root/.julia/packages/FileIO/Y54iO/src/loadsave.jl:196 [inlined]",
            " [5] #save#15 at /root/.julia/packages/FileIO/Y54iO/src/loadsave.jl:118 [inlined]",
            " [6] save(::String, ::String, ::Chain) at /root/.julia/packages/FileIO/Y54iO/src/loadsave.jl:118",
            " [7] #save#847(::Base.Iterators.Pairs{Union{},Union{},Tuple{},NamedTuple{(),Tuple{}}}, ::typeof(Knet.save), ::String, ::String, ::Vararg{Any,N} where N) at /root/.julia/packages/Knet/vxHRi/src/jld.jl:15",
            " [8] save(::String, ::String, ::Vararg{Any,N} where N) at /root/.julia/packages/Knet/vxHRi/src/jld.jl:15",
            " [9] top-level scope at In[221]:2"
          ]
        }
      ]
    },
    {
      "cell_type": "code",
      "metadata": {
        "id": "F6MnpIDm4U3N",
        "colab_type": "code",
        "colab": {}
      },
      "source": [
        ""
      ],
      "execution_count": 0,
      "outputs": []
    }
  ]
}